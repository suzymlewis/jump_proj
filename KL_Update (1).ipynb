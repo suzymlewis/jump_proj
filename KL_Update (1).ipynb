{
 "cells": [
  {
   "cell_type": "code",
   "execution_count": 45,
   "metadata": {},
   "outputs": [],
   "source": [
    "## IMPORT RELEVANT DICTIONARIES AND MODULES\n",
    "import numpy as np\n",
    "import matplotlib.pyplot as plt\n",
    "%matplotlib inline \n",
    "from scipy.stats import norm \n",
    "import scipy.stats as sts\n",
    "from scipy.stats import t"
   ]
  },
  {
   "cell_type": "code",
   "execution_count": 46,
   "metadata": {
    "collapsed": true
   },
   "outputs": [],
   "source": [
    "## PARAMS FOR REDUCED RATE MODEL\n",
    "V_rest = -70.0 # mV, resting membrane potential\n",
    "\n",
    "tau_E = 20.0 # ms, E neuron time constant \n",
    "tau_I = 10.0 # ms, I neuron time constant\n",
    "tau = [tau_E, tau_I]\n",
    "\n",
    "W_EE = 1.25 # mV*s, connection weight \n",
    "W_IE = 1.2 # mV*s, connection weight\n",
    "W_EI = 0.65 # mV*s, connection weight\n",
    "W_II = 0.5 # mV*s, connection weight\n",
    "W = np.array([[W_EE, -W_EI],\n",
    "            [W_IE, -W_II]])\n",
    "\n",
    "b = 2.0 # mV, input baseline\n",
    "\n",
    "sigma_0E = 0.2 # mV, noise standard deviation \n",
    "sigma_0I = 0.1 # mV, noise standard deviation sigma_noise = np.zeros((2,2))\n",
    "sigma_noise[0,0] = (np.power(sigma_0E,2))*(1+tau_E/tau_noise)\n",
    "sigma_noise[1,1] = (np.power(sigma_0I,2))*(1+tau_I/tau_noise)\n",
    "\n",
    "tau_noise = 50.0 # ms, noise correlation time constant \n",
    "\n",
    "k = 0.3 # mV^-n*s^-1, nonlinearity gain \n",
    "n = 2 # nonlinearity exponent \n",
    "\n",
    "dt = 0.1 # time step"
   ]
  },
  {
   "cell_type": "code",
   "execution_count": 47,
   "metadata": {
    "collapsed": true
   },
   "outputs": [],
   "source": [
    "def generate_noise(n_step, \n",
    "                   N_E=1,\n",
    "                   N_I=1,\n",
    "                   scale=0.1,\n",
    "                   tau_noise = tau_noise,\n",
    "                   sigma_noise = sigma_noise):\n",
    "    \"\"\"\n",
    "    Generate input noise for N units, each unit for n_steps\n",
    "    \"\"\"\n",
    "    N = N_E+N_I\n",
    "    # record \n",
    "    noise_list = np.empty((N, n_step))\n",
    "    \n",
    "    # initialize \n",
    "    noise = np.zeros((N,))\n",
    "    \n",
    "    r = norm.rvs(size=(N, n_step), scale = scale)\n",
    "    \n",
    "    # pregenerate Weiner process \n",
    "    #Weiner = generate_Weiner_process(N, n_step, dt, scale=scale)\n",
    "    \n",
    "    sigma_noise_multi = np.concatenate((sigma_noise[0,0]*np.ones((N_E,1)), sigma_noise[1,1]*np.ones((N_I,1))), axis=None)\n",
    "    sigma_noise = np.diag(sigma_noise_multi)\n",
    "    \n",
    "    for i_step in range(n_step):\n",
    "        \n",
    "        # update noise \n",
    "        # checked Nov 20th \n",
    "        d_noise = (-noise*dt + (np.sqrt(2*tau_noise*sigma_noise)).dot(r[:,i_step]))/tau_noise\n",
    "        noise = noise + d_noise\n",
    "        noise_list[:,i_step] = noise\n",
    "        \n",
    "    return noise_list"
   ]
  },
  {
   "cell_type": "code",
   "execution_count": 65,
   "metadata": {
    "collapsed": true
   },
   "outputs": [],
   "source": [
    "def simulate(N_E=1,\n",
    "             N_I=1,\n",
    "             V_rest = V_rest, \n",
    "             n_step = 10000, # default simulate for 1s\n",
    "             start_step = 0,\n",
    "             dt = 0.1, \n",
    "             h = b, \n",
    "             W = W, \n",
    "             k = k, \n",
    "             n = n,\n",
    "             tau = tau,\n",
    "             noise_scale=1.0,\n",
    "             h_scale=0,\n",
    "             V_init = None):\n",
    "    \"\"\"\n",
    "    V_rest: resting potential \n",
    "    N: total number of neurons \n",
    "    n_step: total simulation steps \n",
    "    dt: simulation time step \n",
    "    h: constant input \n",
    "    W: exc and inh weights\n",
    "    k,n: parameter for r supralinear function\n",
    "    tau: list of tau for corresponding units \n",
    "    \"\"\"\n",
    "    \n",
    "    # Initialization\n",
    "    N = N_E+N_I\n",
    "    tau = np.concatenate((tau_E*np.ones((N_E,1)), tau_I*np.ones((N_I,1))), axis=None)\n",
    "    \n",
    "    if V_init is None: \n",
    "        V = V_rest * np.ones((N,)) # start at resting potential \n",
    "    else: \n",
    "        V = V_init\n",
    "    V_rest_vec = V_rest*np.ones((N,))\n",
    "    # pre-calculate input strenght noise\n",
    "    h = np.random.normal(h,h_scale,n_step)\n",
    "    #H = h*np.ones((N,))\n",
    "    noise = np.zeros((N,))\n",
    "    \n",
    "    # record \n",
    "    record_step = n_step - start_step\n",
    "    V_list = np.empty((N, record_step))\n",
    "    noise_record_list = np.empty((N, record_step))\n",
    "    r_list = np.empty((N, record_step))\n",
    "    H_list = np.empty((N, record_step))\n",
    "    \n",
    "    # pre-generate noise \n",
    "    noise_list = generate_noise(n_step,N_E, N_I, scale=noise_scale)\n",
    "    \n",
    "    \n",
    "    for i_step in range(n_step):\n",
    "        # change input strength\n",
    "        H = h[i_step]*np.ones((N,))\n",
    "        # get noise \n",
    "        noise = noise_list[:,i_step]\n",
    "        \n",
    "        # get R \n",
    "        # checked Nov 20th \n",
    "        #R = 10*k*np.maximum(0.0,(V-V_rest))                       #linear\n",
    "        R = k*np.power(np.maximum(0.0, V-V_rest), n) #supralinear\n",
    "        #R = 70*(1/(1+np.exp(-V+V_rest+10)))                        #sublinear/sigmoid\n",
    "\n",
    "\n",
    "        \n",
    "        # update membrane potential \n",
    "        dv = np.divide(dt*(-V + V_rest_vec + H + noise + W.dot(R)), tau)\n",
    "        # dv = np.divide(dt*(-V + V_rest_vec + H + noise), tau) # verified for the case of feedforward, Nov 21st\n",
    "        # dv = np.divide(dt*(-V + V_rest_vec + H + W.dot(R)), tau) # verified for the case of no noise, Nov 21st \n",
    "        V = V + dv \n",
    "        \n",
    "        # record \n",
    "        if i_step >= start_step: \n",
    "            r_list[:,i_step-start_step] = R\n",
    "            V_list[:,i_step-start_step] = V\n",
    "            noise_record_list[:,i_step-start_step] = noise\n",
    "            H_list[:,i_step-start_step] = H\n",
    "        \n",
    "    V_last = V\n",
    "        \n",
    "    return V_list, r_list, noise_record_list, H_list, V_last"
   ]
  },
  {
   "cell_type": "code",
   "execution_count": 67,
   "metadata": {},
   "outputs": [],
   "source": [
    "### RUN MODEL TO CALC KLDIVERGENCE ###\n",
    "# initialize variables\n",
    "N_E = 1        #number excitatory\n",
    "N_I = 1        #number inhibitory\n",
    "h = 2           #starting input strength\n",
    "noise_scale = 1  #std of cells\n",
    "h_scale = 0      #std of h\n",
    "n_step = 10000   #number of timesteps; 10000=1sec\n",
    "\n",
    "W_multi=W\n",
    "#W_multi=get_connectivity(N_E,N_I)\n",
    "\n",
    "trials = 10\n",
    "num_h = [2,4,6]\n",
    "num_sigmah = [0, 1]\n",
    "V = np.empty([trials,len(num_h),len(num_sigmah), n_step-2000])\n",
    "R = np.empty([trials,len(num_h),len(num_sigmah), n_step-2000])\n",
    "for trial in range(trials):\n",
    "    for h in num_h:\n",
    "        for h_scale in num_sigmah:\n",
    "            [V_list, r_list, noise_list, H_list, V_last] = simulate(N_E=N_E, N_I=N_I, n_step=n_step, h=h, W=W_multi,\n",
    "                                                                noise_scale=noise_scale, h_scale=h_scale,start_step=2000)\n",
    "\n",
    "            exc = V_list[:N_E] # np.shape(exc) = 1 x 8000\n",
    "            inh = V_list[N_E:]\n",
    "            \n",
    "            excR = r_list[:N_E] # np.shape(exc) = 1 x 8000\n",
    "            inhR = r_list[N_E:]\n",
    "        \n",
    "            V[trial, num_h.index(h), num_sigmah.index(h_scale), :] = exc;\n",
    "            R[trial, num_h.index(h), num_sigmah.index(h_scale), :] = excR;"
   ]
  },
  {
   "cell_type": "code",
   "execution_count": 68,
   "metadata": {},
   "outputs": [
    {
     "data": {
      "text/plain": [
       "(10L, 3L, 2L, 8000L)"
      ]
     },
     "execution_count": 68,
     "metadata": {},
     "output_type": "execute_result"
    }
   ],
   "source": [
    "np.shape(R)"
   ]
  },
  {
   "cell_type": "code",
   "execution_count": 69,
   "metadata": {
    "collapsed": true
   },
   "outputs": [],
   "source": [
    "## PULL/ASSIGN RELEVANT OUTPUT ARRAYS FOR KL\n",
    "\n",
    "pdf_mat_2_0 = R[:, 0, 0, :] # H=2, std input noise =0\n",
    "pdf_mat_2_1 = R[:, 0, 1, :]\n",
    "pdf_mat_4_0 = R[:, 1, 0, :]\n",
    "pdf_mat_4_1 = R[:, 1, 1, :] # H=4, std input noise =1\n",
    "pdf_mat_6_0 = R[:, 2, 0, :]\n",
    "pdf_mat_6_1 = R[:, 2, 1, :] "
   ]
  },
  {
   "cell_type": "code",
   "execution_count": 58,
   "metadata": {},
   "outputs": [
    {
     "data": {
      "image/png": "[encoded data removed]",
      "text/plain": [
       "<matplotlib.figure.Figure at 0xfa56d30>"
      ]
     },
     "metadata": {},
     "output_type": "display_data"
    },
    {
     "data": {
      "image/png": "[encoded data removed]",
      "text/plain": [
       "<matplotlib.figure.Figure at 0xf947e80>"
      ]
     },
     "metadata": {},
     "output_type": "display_data"
    }
   ],
   "source": [
    "## FIGURES TO VISUALIZE DISTS W AND W/O NOISE\n",
    "\n",
    "x = np.ndarray.flatten(pdf_mat_2_0);\n",
    "y = np.ndarray.flatten(pdf_mat_4_0);\n",
    "z = np.ndarray.flatten(pdf_mat_6_0);\n",
    "\n",
    "# bins = np.linspace(-72.5, -62.5, 100)\n",
    "\n",
    "plt.hist(x, bins, alpha=0.5, label='x')\n",
    "plt.hist(y, bins, alpha=0.5, label='y')\n",
    "plt.hist(z, bins, alpha=0.5, label='z')\n",
    "plt.legend(loc='upper right')\n",
    "plt.show()\n",
    "\n",
    "xn = np.ndarray.flatten(pdf_mat_2_1);\n",
    "yn = np.ndarray.flatten(pdf_mat_4_1);\n",
    "zn = np.ndarray.flatten(pdf_mat_6_1);\n",
    "\n",
    "bins = np.linspace(-72.5, -62.5, 100)\n",
    "\n",
    "plt.hist(xn, bins, alpha=0.5, label='x_noise')\n",
    "plt.hist(yn, bins, alpha=0.5, label='y_noise')\n",
    "plt.hist(zn, bins, alpha=0.5, label='z_noise')\n",
    "plt.legend(loc='upper right')\n",
    "plt.show()"
   ]
  },
  {
   "cell_type": "code",
   "execution_count": 70,
   "metadata": {},
   "outputs": [
    {
     "data": {
      "text/plain": [
       "[<matplotlib.lines.Line2D at 0x108ef7f0>]"
      ]
     },
     "execution_count": 70,
     "metadata": {},
     "output_type": "execute_result"
    },
    {
     "data": {
      "image/png": "[encoded data removed]",
      "text/plain": [
       "<matplotlib.figure.Figure at 0x128f1a58>"
      ]
     },
     "metadata": {},
     "output_type": "display_data"
    },
    {
     "data": {
      "image/png": "[encoded data removed]",
      "text/plain": [
       "<matplotlib.figure.Figure at 0x12ee9c18>"
      ]
     },
     "metadata": {},
     "output_type": "display_data"
    }
   ],
   "source": [
    "plt.figure(0)\n",
    "plt.hist(xn,100);\n",
    "plt.figure(1)\n",
    "plt.plot(xn)\n"
   ]
  },
  {
   "cell_type": "code",
   "execution_count": 64,
   "metadata": {},
   "outputs": [
    {
     "data": {
      "text/plain": [
       "(10L, 8000L)"
      ]
     },
     "execution_count": 64,
     "metadata": {},
     "output_type": "execute_result"
    }
   ],
   "source": [
    "np.shape(pdf_mat_2_0)"
   ]
  },
  {
   "cell_type": "code",
   "execution_count": 109,
   "metadata": {},
   "outputs": [],
   "source": [
    "### FOR CALCULATING KL DIVERGENCE\n",
    "## STILL NEED TO MAKE BINS COMMON ACROSS ALL\n",
    "\n",
    "# CONCATE ALL TRIALS INTO SINGLE ARRAY\n",
    "free_2=np.ndarray.flatten(pdf_mat_2_0);\n",
    "free_4=np.ndarray.flatten(pdf_mat_4_0);\n",
    "free_6=np.ndarray.flatten(pdf_mat_6_0);\n",
    "\n",
    "noise_2=np.ndarray.flatten(pdf_mat_2_1);\n",
    "noise_4=np.ndarray.flatten(pdf_mat_4_1);\n",
    "noise_6=np.ndarray.flatten(pdf_mat_6_1);\n",
    "\n",
    "# DISCRETIZE POSSIBLE vM VALUES INTO SINGLE COMMON RANGE\n",
    "# To compare h=2 to h=4\n",
    "min1 = np.min(np.minimum(free_2, noise_2))\n",
    "max1 = np.max(np.maximum(free_4, noise_4))\n",
    "bins1 = np.linspace(min1, max1, 30)\n",
    "\n",
    "# To compare h=4 to h=6\n",
    "min2 = np.min(np.minimum(free_4, noise_4))\n",
    "max2 = np.max(np.maximum(free_6, noise_6))\n",
    "bins2 = np.linspace(min2, max2, 30)\n",
    "\n",
    "\n",
    "# GET PMFs WITH COMMON RANGE\n",
    "# Free from noise\n",
    "y = np.histogram(free_2, bins = bins1, density = True)\n",
    "y1 = np.histogram(free_4, bins = bins1, density = True)\n",
    "z = np.histogram(free_4, bins = bins2, density = True)\n",
    "z1= np.histogram(free_6, bins = bins2, density = True)\n",
    "\n",
    "# With 1 std white noise for stimulus input\n",
    "yn= np.histogram(noise_2, bins = bins1, density = True)\n",
    "yn1= np.histogram(noise_4, bins = bins1, density = True)\n",
    "zn = np.histogram(noise_4, bins = bins2, density = True)\n",
    "zn1= np.histogram(noise_6, bins = bins2, density = True)\n",
    "\n",
    "\n",
    "# y = np.histogram(free_2, bins=100, density=True);\n",
    "# y1 = np.histogram(free_4, bins=100, density=True);\n",
    "# y2 = np.histogram(free_6, bins=100, density=True);\n",
    "\n",
    "# yn = np.histogram(noise_2, bins=100, density=True);\n",
    "# yn1 = np.histogram(noise_4, bins=100, density=True);\n",
    "# yn2 = np.histogram(noise_6, bins=100, density=True);\n",
    "\n",
    "# GRAB PDF ARRAY FROM HIST TUPLE\n",
    "y_=y[0];\n",
    "y1_=y1[0];\n",
    "z_=z[0];\n",
    "z1_=z1[0];\n",
    "yn_=yn[0];\n",
    "yn1_=yn1[0];\n",
    "zn_=zn[0];\n",
    "zn1_=zn1[0];"
   ]
  },
  {
   "cell_type": "code",
   "execution_count": 110,
   "metadata": {
    "collapsed": true
   },
   "outputs": [],
   "source": [
    "def replacezero (x):\n",
    "    min_a = np.min([i for i in x if (i!=0.0)&(i!=np.nan)])\n",
    "    for i_ind, i_x in enumerate(x):\n",
    "        if i_x == 0.0:\n",
    "            x[i_ind] = min_a/2"
   ]
  },
  {
   "cell_type": "code",
   "execution_count": 112,
   "metadata": {},
   "outputs": [
    {
     "name": "stdout",
     "output_type": "stream",
     "text": [
      "None\n"
     ]
    }
   ],
   "source": [
    "print(y_)"
   ]
  },
  {
   "cell_type": "code",
   "execution_count": 111,
   "metadata": {},
   "outputs": [],
   "source": [
    "# PULL ZEROS FROM PMFs\n",
    "y_ = replacezero(y_)\n",
    "y1_ = replacezero(y1_)\n",
    "z_ = replacezero(z_)\n",
    "z1_ = replacezero(z1_)\n",
    "yn_ = replacezero(yn_)\n",
    "yn1_ = replacezero(yn1_)\n",
    "z_ = replacezero(zn_)\n",
    "zn1_ = replacezero(zn1_)"
   ]
  },
  {
   "cell_type": "code",
   "execution_count": 95,
   "metadata": {},
   "outputs": [
    {
     "ename": "ValueError",
     "evalue": "x and y must not be None",
     "output_type": "error",
     "traceback": [
      "\u001b[1;31m---------------------------------------------------------------------------\u001b[0m",
      "\u001b[1;31mValueError\u001b[0m                                Traceback (most recent call last)",
      "\u001b[1;32m<ipython-input-95-ef8af4f049b2>\u001b[0m in \u001b[0;36m<module>\u001b[1;34m()\u001b[0m\n\u001b[0;32m      1\u001b[0m \u001b[1;31m# VISUALIZE BINNED DISTS\u001b[0m\u001b[1;33m\u001b[0m\u001b[1;33m\u001b[0m\u001b[0m\n\u001b[0;32m      2\u001b[0m \u001b[0mplt\u001b[0m\u001b[1;33m.\u001b[0m\u001b[0mfigure\u001b[0m\u001b[1;33m(\u001b[0m\u001b[1;36m0\u001b[0m\u001b[1;33m)\u001b[0m\u001b[1;33m\u001b[0m\u001b[0m\n\u001b[1;32m----> 3\u001b[1;33m \u001b[0mplt\u001b[0m\u001b[1;33m.\u001b[0m\u001b[0mplot\u001b[0m\u001b[1;33m(\u001b[0m\u001b[0my_\u001b[0m\u001b[1;33m)\u001b[0m\u001b[1;33m\u001b[0m\u001b[0m\n\u001b[0m\u001b[0;32m      4\u001b[0m \u001b[0mplt\u001b[0m\u001b[1;33m.\u001b[0m\u001b[0mplot\u001b[0m\u001b[1;33m(\u001b[0m\u001b[0my1_\u001b[0m\u001b[1;33m,\u001b[0m \u001b[1;34m'r'\u001b[0m\u001b[1;33m)\u001b[0m\u001b[1;33m\u001b[0m\u001b[0m\n\u001b[0;32m      5\u001b[0m \u001b[0mplt\u001b[0m\u001b[1;33m.\u001b[0m\u001b[0mfigure\u001b[0m\u001b[1;33m(\u001b[0m\u001b[1;36m1\u001b[0m\u001b[1;33m)\u001b[0m\u001b[1;33m\u001b[0m\u001b[0m\n",
      "\u001b[1;32mC:\\Users\\girelab\\Anaconda27\\lib\\site-packages\\matplotlib\\pyplot.pyc\u001b[0m in \u001b[0;36mplot\u001b[1;34m(*args, **kwargs)\u001b[0m\n\u001b[0;32m   3315\u001b[0m                       mplDeprecation)\n\u001b[0;32m   3316\u001b[0m     \u001b[1;32mtry\u001b[0m\u001b[1;33m:\u001b[0m\u001b[1;33m\u001b[0m\u001b[0m\n\u001b[1;32m-> 3317\u001b[1;33m         \u001b[0mret\u001b[0m \u001b[1;33m=\u001b[0m \u001b[0max\u001b[0m\u001b[1;33m.\u001b[0m\u001b[0mplot\u001b[0m\u001b[1;33m(\u001b[0m\u001b[1;33m*\u001b[0m\u001b[0margs\u001b[0m\u001b[1;33m,\u001b[0m \u001b[1;33m**\u001b[0m\u001b[0mkwargs\u001b[0m\u001b[1;33m)\u001b[0m\u001b[1;33m\u001b[0m\u001b[0m\n\u001b[0m\u001b[0;32m   3318\u001b[0m     \u001b[1;32mfinally\u001b[0m\u001b[1;33m:\u001b[0m\u001b[1;33m\u001b[0m\u001b[0m\n\u001b[0;32m   3319\u001b[0m         \u001b[0max\u001b[0m\u001b[1;33m.\u001b[0m\u001b[0m_hold\u001b[0m \u001b[1;33m=\u001b[0m \u001b[0mwashold\u001b[0m\u001b[1;33m\u001b[0m\u001b[0m\n",
      "\u001b[1;32mC:\\Users\\girelab\\Anaconda27\\lib\\site-packages\\matplotlib\\__init__.pyc\u001b[0m in \u001b[0;36minner\u001b[1;34m(ax, *args, **kwargs)\u001b[0m\n\u001b[0;32m   1895\u001b[0m                     warnings.warn(msg % (label_namer, func.__name__),\n\u001b[0;32m   1896\u001b[0m                                   RuntimeWarning, stacklevel=2)\n\u001b[1;32m-> 1897\u001b[1;33m             \u001b[1;32mreturn\u001b[0m \u001b[0mfunc\u001b[0m\u001b[1;33m(\u001b[0m\u001b[0max\u001b[0m\u001b[1;33m,\u001b[0m \u001b[1;33m*\u001b[0m\u001b[0margs\u001b[0m\u001b[1;33m,\u001b[0m \u001b[1;33m**\u001b[0m\u001b[0mkwargs\u001b[0m\u001b[1;33m)\u001b[0m\u001b[1;33m\u001b[0m\u001b[0m\n\u001b[0m\u001b[0;32m   1898\u001b[0m         \u001b[0mpre_doc\u001b[0m \u001b[1;33m=\u001b[0m \u001b[0minner\u001b[0m\u001b[1;33m.\u001b[0m\u001b[0m__doc__\u001b[0m\u001b[1;33m\u001b[0m\u001b[0m\n\u001b[0;32m   1899\u001b[0m         \u001b[1;32mif\u001b[0m \u001b[0mpre_doc\u001b[0m \u001b[1;32mis\u001b[0m \u001b[0mNone\u001b[0m\u001b[1;33m:\u001b[0m\u001b[1;33m\u001b[0m\u001b[0m\n",
      "\u001b[1;32mC:\\Users\\girelab\\Anaconda27\\lib\\site-packages\\matplotlib\\axes\\_axes.pyc\u001b[0m in \u001b[0;36mplot\u001b[1;34m(self, *args, **kwargs)\u001b[0m\n\u001b[0;32m   1404\u001b[0m         \u001b[0mkwargs\u001b[0m \u001b[1;33m=\u001b[0m \u001b[0mcbook\u001b[0m\u001b[1;33m.\u001b[0m\u001b[0mnormalize_kwargs\u001b[0m\u001b[1;33m(\u001b[0m\u001b[0mkwargs\u001b[0m\u001b[1;33m,\u001b[0m \u001b[0m_alias_map\u001b[0m\u001b[1;33m)\u001b[0m\u001b[1;33m\u001b[0m\u001b[0m\n\u001b[0;32m   1405\u001b[0m \u001b[1;33m\u001b[0m\u001b[0m\n\u001b[1;32m-> 1406\u001b[1;33m         \u001b[1;32mfor\u001b[0m \u001b[0mline\u001b[0m \u001b[1;32min\u001b[0m \u001b[0mself\u001b[0m\u001b[1;33m.\u001b[0m\u001b[0m_get_lines\u001b[0m\u001b[1;33m(\u001b[0m\u001b[1;33m*\u001b[0m\u001b[0margs\u001b[0m\u001b[1;33m,\u001b[0m \u001b[1;33m**\u001b[0m\u001b[0mkwargs\u001b[0m\u001b[1;33m)\u001b[0m\u001b[1;33m:\u001b[0m\u001b[1;33m\u001b[0m\u001b[0m\n\u001b[0m\u001b[0;32m   1407\u001b[0m             \u001b[0mself\u001b[0m\u001b[1;33m.\u001b[0m\u001b[0madd_line\u001b[0m\u001b[1;33m(\u001b[0m\u001b[0mline\u001b[0m\u001b[1;33m)\u001b[0m\u001b[1;33m\u001b[0m\u001b[0m\n\u001b[0;32m   1408\u001b[0m             \u001b[0mlines\u001b[0m\u001b[1;33m.\u001b[0m\u001b[0mappend\u001b[0m\u001b[1;33m(\u001b[0m\u001b[0mline\u001b[0m\u001b[1;33m)\u001b[0m\u001b[1;33m\u001b[0m\u001b[0m\n",
      "\u001b[1;32mC:\\Users\\girelab\\Anaconda27\\lib\\site-packages\\matplotlib\\axes\\_base.pyc\u001b[0m in \u001b[0;36m_grab_next_args\u001b[1;34m(self, *args, **kwargs)\u001b[0m\n\u001b[0;32m    405\u001b[0m                 \u001b[1;32mreturn\u001b[0m\u001b[1;33m\u001b[0m\u001b[0m\n\u001b[0;32m    406\u001b[0m             \u001b[1;32mif\u001b[0m \u001b[0mlen\u001b[0m\u001b[1;33m(\u001b[0m\u001b[0mremaining\u001b[0m\u001b[1;33m)\u001b[0m \u001b[1;33m<=\u001b[0m \u001b[1;36m3\u001b[0m\u001b[1;33m:\u001b[0m\u001b[1;33m\u001b[0m\u001b[0m\n\u001b[1;32m--> 407\u001b[1;33m                 \u001b[1;32mfor\u001b[0m \u001b[0mseg\u001b[0m \u001b[1;32min\u001b[0m \u001b[0mself\u001b[0m\u001b[1;33m.\u001b[0m\u001b[0m_plot_args\u001b[0m\u001b[1;33m(\u001b[0m\u001b[0mremaining\u001b[0m\u001b[1;33m,\u001b[0m \u001b[0mkwargs\u001b[0m\u001b[1;33m)\u001b[0m\u001b[1;33m:\u001b[0m\u001b[1;33m\u001b[0m\u001b[0m\n\u001b[0m\u001b[0;32m    408\u001b[0m                     \u001b[1;32myield\u001b[0m \u001b[0mseg\u001b[0m\u001b[1;33m\u001b[0m\u001b[0m\n\u001b[0;32m    409\u001b[0m                 \u001b[1;32mreturn\u001b[0m\u001b[1;33m\u001b[0m\u001b[0m\n",
      "\u001b[1;32mC:\\Users\\girelab\\Anaconda27\\lib\\site-packages\\matplotlib\\axes\\_base.pyc\u001b[0m in \u001b[0;36m_plot_args\u001b[1;34m(self, tup, kwargs)\u001b[0m\n\u001b[0;32m    366\u001b[0m         \u001b[1;31m# downstream.\u001b[0m\u001b[1;33m\u001b[0m\u001b[1;33m\u001b[0m\u001b[0m\n\u001b[0;32m    367\u001b[0m         \u001b[1;32mif\u001b[0m \u001b[0many\u001b[0m\u001b[1;33m(\u001b[0m\u001b[0mv\u001b[0m \u001b[1;32mis\u001b[0m \u001b[0mNone\u001b[0m \u001b[1;32mfor\u001b[0m \u001b[0mv\u001b[0m \u001b[1;32min\u001b[0m \u001b[0mtup\u001b[0m\u001b[1;33m)\u001b[0m\u001b[1;33m:\u001b[0m\u001b[1;33m\u001b[0m\u001b[0m\n\u001b[1;32m--> 368\u001b[1;33m             \u001b[1;32mraise\u001b[0m \u001b[0mValueError\u001b[0m\u001b[1;33m(\u001b[0m\u001b[1;34m\"x and y must not be None\"\u001b[0m\u001b[1;33m)\u001b[0m\u001b[1;33m\u001b[0m\u001b[0m\n\u001b[0m\u001b[0;32m    369\u001b[0m \u001b[1;33m\u001b[0m\u001b[0m\n\u001b[0;32m    370\u001b[0m         \u001b[0mkw\u001b[0m \u001b[1;33m=\u001b[0m \u001b[1;33m{\u001b[0m\u001b[1;33m}\u001b[0m\u001b[1;33m\u001b[0m\u001b[0m\n",
      "\u001b[1;31mValueError\u001b[0m: x and y must not be None"
     ]
    },
    {
     "data": {
      "image/png": "[encoded data removed]",
      "text/plain": [
       "<matplotlib.figure.Figure at 0x12cf95f8>"
      ]
     },
     "metadata": {},
     "output_type": "display_data"
    }
   ],
   "source": [
    " # VISUALIZE BINNED DISTS\n",
    "plt.figure(0)\n",
    "plt.plot(y_)\n",
    "plt.plot(y1_, 'r')\n",
    "plt.figure(1)\n",
    "plt.plot(z_)\n",
    "plt.plot(z1_, 'r')\n",
    "plt.figure(2)\n",
    "plt.plot(yn_)\n",
    "plt.plot(yn1_, 'r')\n",
    "plt.figure(3)\n",
    "plt.plot(zn_)\n",
    "plt.plot(zn1_, 'r')"
   ]
  },
  {
   "cell_type": "code",
   "execution_count": 87,
   "metadata": {
    "collapsed": true
   },
   "outputs": [],
   "source": [
    "## FUNCTION TO CALC KL\n",
    "def KL(a, b):\n",
    "    a = np.asarray(a, dtype=np.float)\n",
    "    b = np.asarray(b, dtype=np.float)#\n",
    "\n",
    "    return np.sum(np.where(a != 0, a * np.log(a / b), 0))"
   ]
  },
  {
   "cell_type": "code",
   "execution_count": 88,
   "metadata": {},
   "outputs": [
    {
     "name": "stdout",
     "output_type": "stream",
     "text": [
      "0.626019103908\n",
      "inf\n",
      "inf\n",
      "0.140164010894\n"
     ]
    },
    {
     "name": "stderr",
     "output_type": "stream",
     "text": [
      "C:\\Users\\girelab\\Anaconda27\\lib\\site-packages\\ipykernel_launcher.py:6: RuntimeWarning: divide by zero encountered in log\n",
      "  \n",
      "C:\\Users\\girelab\\Anaconda27\\lib\\site-packages\\ipykernel_launcher.py:6: RuntimeWarning: invalid value encountered in multiply\n",
      "  \n",
      "C:\\Users\\girelab\\Anaconda27\\lib\\site-packages\\ipykernel_launcher.py:6: RuntimeWarning: divide by zero encountered in divide\n",
      "  \n",
      "C:\\Users\\girelab\\Anaconda27\\lib\\site-packages\\ipykernel_launcher.py:6: RuntimeWarning: invalid value encountered in divide\n",
      "  \n"
     ]
    }
   ],
   "source": [
    "## CALC KL DIVERGENCE FOR SUPRALINEAR I/O SSN ITERATION\n",
    "klsup_f24 = KL(y_, y1_)\n",
    "klsup_f46 = KL(z_, z1_)\n",
    "klsup_n24 = KL(yn_, yn1_)\n",
    "klsup_n46 = KL(zn_, zn1_)\n",
    "\n",
    "print(klsup_f24)\n",
    "print(klsup_f46)\n",
    "print(klsup_n24)\n",
    "print(klsup_n46)"
   ]
  },
  {
   "cell_type": "code",
   "execution_count": null,
   "metadata": {
    "collapsed": true
   },
   "outputs": [],
   "source": [
    "## CALC KL DIVERGENCE FOR SATURATING I/O SSN INTERATION\n",
    "klsub_f24 = KL(y_, y1_)\n",
    "klsub_f46 = KL(z_, z1_)\n",
    "klsub_n24 = KL(yn_, yn1_)\n",
    "klsub_n46 = KL(zn_, zn1_)\n",
    "\n",
    "print(klsub_f24)\n",
    "print(klsub_f46)\n",
    "print(klsub_n24)\n",
    "print(klsub_n46)"
   ]
  },
  {
   "cell_type": "code",
   "execution_count": null,
   "metadata": {
    "collapsed": true
   },
   "outputs": [],
   "source": [
    "## CALC KL DIVERGENCE FOR LINEAR I/O SSN INTERATION\n",
    "kllin_f24 = KL(y_, y1_)\n",
    "kllin_f26 = KL(z_, z1)\n",
    "kllin_n24 = KL(yn_, yn1_)\n",
    "kllin_n26 = KL(zn_, zn1_)\n",
    "\n",
    "print(kllin_f24)\n",
    "print(kllin_f46)\n",
    "print(kllin_n24)\n",
    "print(kllin_n46)"
   ]
  }
 ],
 "metadata": {
  "kernelspec": {
   "display_name": "Python 2",
   "language": "python",
   "name": "python2"
  },
  "language_info": {
   "codemirror_mode": {
    "name": "ipython",
    "version": 2
   },
   "file_extension": ".py",
   "mimetype": "text/x-python",
   "name": "python",
   "nbconvert_exporter": "python",
   "pygments_lexer": "ipython2",
   "version": "2.7.13"
  }
 },
 "nbformat": 4,
 "nbformat_minor": 2
}
