{
 "cells": [
  {
   "cell_type": "code",
   "execution_count": 45,
   "metadata": {},
   "outputs": [],
   "source": [
    "## IMPORT RELEVANT DICTIONARIES AND MODULES\n",
    "import numpy as np\n",
    "import matplotlib.pyplot as plt\n",
    "%matplotlib inline \n",
    "from scipy.stats import norm \n",
    "import scipy.stats as sts\n",
    "from scipy.stats import t"
   ]
  },
  {
   "cell_type": "code",
   "execution_count": 46,
   "metadata": {
    "collapsed": true
   },
   "outputs": [],
   "source": [
    "## PARAMS FOR REDUCED RATE MODEL\n",
    "V_rest = -70.0 # mV, resting membrane potential\n",
    "\n",
    "tau_E = 20.0 # ms, E neuron time constant \n",
    "tau_I = 10.0 # ms, I neuron time constant\n",
    "tau = [tau_E, tau_I]\n",
    "\n",
    "W_EE = 1.25 # mV*s, connection weight \n",
    "W_IE = 1.2 # mV*s, connection weight\n",
    "W_EI = 0.65 # mV*s, connection weight\n",
    "W_II = 0.5 # mV*s, connection weight\n",
    "W = np.array([[W_EE, -W_EI],\n",
    "            [W_IE, -W_II]])\n",
    "\n",
    "b = 2.0 # mV, input baseline\n",
    "\n",
    "sigma_0E = 0.2 # mV, noise standard deviation \n",
    "sigma_0I = 0.1 # mV, noise standard deviation sigma_noise = np.zeros((2,2))\n",
    "sigma_noise[0,0] = (np.power(sigma_0E,2))*(1+tau_E/tau_noise)\n",
    "sigma_noise[1,1] = (np.power(sigma_0I,2))*(1+tau_I/tau_noise)\n",
    "\n",
    "tau_noise = 50.0 # ms, noise correlation time constant \n",
    "\n",
    "k = 0.3 # mV^-n*s^-1, nonlinearity gain \n",
    "n = 2 # nonlinearity exponent \n",
    "\n",
    "dt = 0.1 # time step"
   ]
  },
  {
   "cell_type": "code",
   "execution_count": 47,
   "metadata": {
    "collapsed": true
   },
   "outputs": [],
   "source": [
    "def generate_noise(n_step, \n",
    "                   N_E=1,\n",
    "                   N_I=1,\n",
    "                   scale=0.1,\n",
    "                   tau_noise = tau_noise,\n",
    "                   sigma_noise = sigma_noise):\n",
    "    \"\"\"\n",
    "    Generate input noise for N units, each unit for n_steps\n",
    "    \"\"\"\n",
    "    N = N_E+N_I\n",
    "    # record \n",
    "    noise_list = np.empty((N, n_step))\n",
    "    \n",
    "    # initialize \n",
    "    noise = np.zeros((N,))\n",
    "    \n",
    "    r = norm.rvs(size=(N, n_step), scale = scale)\n",
    "    \n",
    "    # pregenerate Weiner process \n",
    "    #Weiner = generate_Weiner_process(N, n_step, dt, scale=scale)\n",
    "    \n",
    "    sigma_noise_multi = np.concatenate((sigma_noise[0,0]*np.ones((N_E,1)), sigma_noise[1,1]*np.ones((N_I,1))), axis=None)\n",
    "    sigma_noise = np.diag(sigma_noise_multi)\n",
    "    \n",
    "    for i_step in range(n_step):\n",
    "        \n",
    "        # update noise \n",
    "        # checked Nov 20th \n",
    "        d_noise = (-noise*dt + (np.sqrt(2*tau_noise*sigma_noise)).dot(r[:,i_step]))/tau_noise\n",
    "        noise = noise + d_noise\n",
    "        noise_list[:,i_step] = noise\n",
    "        \n",
    "    return noise_list"
   ]
  },
  {
   "cell_type": "code",
   "execution_count": 149,
   "metadata": {},
   "outputs": [],
   "source": [
    "def simulate(N_E=1,\n",
    "             N_I=1,\n",
    "             V_rest = V_rest, \n",
    "             n_step = 10000, # default simulate for 1s\n",
    "             start_step = 0,\n",
    "             dt = 0.1, \n",
    "             h = b, \n",
    "             W = W, \n",
    "             k = k, \n",
    "             n = n,\n",
    "             tau = tau,\n",
    "             noise_scale=1.0,\n",
    "             h_scale=0,\n",
    "             V_init = None):\n",
    "    \"\"\"\n",
    "    V_rest: resting potential \n",
    "    N: total number of neurons \n",
    "    n_step: total simulation steps \n",
    "    dt: simulation time step \n",
    "    h: constant input \n",
    "    W: exc and inh weights\n",
    "    k,n: parameter for r supralinear function\n",
    "    tau: list of tau for corresponding units \n",
    "    \"\"\"\n",
    "    \n",
    "    # Initialization\n",
    "    N = N_E+N_I\n",
    "    tau = np.concatenate((tau_E*np.ones((N_E,1)), tau_I*np.ones((N_I,1))), axis=None)\n",
    "    \n",
    "    if V_init is None: \n",
    "        V = V_rest * np.ones((N,)) # start at resting potential \n",
    "    else: \n",
    "        V = V_init\n",
    "    V_rest_vec = V_rest*np.ones((N,))\n",
    "    # pre-calculate input strenght noise\n",
    "    h = np.random.normal(h,h_scale,n_step)\n",
    "    #H = h*np.ones((N,))\n",
    "    noise = np.zeros((N,))\n",
    "    \n",
    "    # record \n",
    "    record_step = n_step - start_step\n",
    "    V_list = np.empty((N, record_step))\n",
    "    noise_record_list = np.empty((N, record_step))\n",
    "    r_list = np.empty((N, record_step))\n",
    "    H_list = np.empty((N, record_step))\n",
    "    \n",
    "    # pre-generate noise \n",
    "    noise_list = generate_noise(n_step,N_E, N_I, scale=noise_scale)\n",
    "    \n",
    "    \n",
    "    for i_step in range(n_step):\n",
    "        # change input strength\n",
    "        H = h[i_step]*np.ones((N,))\n",
    "        # get noise \n",
    "        noise = noise_list[:,i_step]\n",
    "        \n",
    "        # get R \n",
    "        # checked Nov 20th \n",
    "        # R = 10*k*np.maximum(0.0,(V-V_rest))                       #linear\n",
    "        # R = k*np.power(np.maximum(0.0, V-V_rest), n) #supralinear\n",
    "        R = 70*(1/(1+np.exp(-V+V_rest+10)))                        #sublinear/sigmoid\n",
    "\n",
    "\n",
    "        \n",
    "        # update membrane potential \n",
    "        dv = np.divide(dt*(-V + V_rest_vec + H + noise + W.dot(R)), tau)\n",
    "        # dv = np.divide(dt*(-V + V_rest_vec + H + noise), tau) # verified for the case of feedforward, Nov 21st\n",
    "        # dv = np.divide(dt*(-V + V_rest_vec + H + W.dot(R)), tau) # verified for the case of no noise, Nov 21st \n",
    "        V = V + dv \n",
    "        \n",
    "        # record \n",
    "        if i_step >= start_step: \n",
    "            r_list[:,i_step-start_step] = R\n",
    "            V_list[:,i_step-start_step] = V\n",
    "            noise_record_list[:,i_step-start_step] = noise\n",
    "            H_list[:,i_step-start_step] = H\n",
    "        \n",
    "    V_last = V\n",
    "        \n",
    "    return V_list, r_list, noise_record_list, H_list, V_last"
   ]
  },
  {
   "cell_type": "code",
   "execution_count": 150,
   "metadata": {},
   "outputs": [],
   "source": [
    "### RUN MODEL TO CALC KLDIVERGENCE ###\n",
    "# initialize variables\n",
    "N_E = 1        #number excitatory\n",
    "N_I = 1        #number inhibitory\n",
    "h = 2           #starting input strength\n",
    "noise_scale = 1  #std of cells\n",
    "h_scale = 0      #std of h\n",
    "n_step = 10000   #number of timesteps; 10000=1sec\n",
    "\n",
    "W_multi=W\n",
    "#W_multi=get_connectivity(N_E,N_I)\n",
    "\n",
    "trials = 10\n",
    "num_h = [2,4,6]\n",
    "num_sigmah = [0, 1]\n",
    "V = np.empty([trials,len(num_h),len(num_sigmah), n_step-2000])\n",
    "R = np.empty([trials,len(num_h),len(num_sigmah), n_step-2000])\n",
    "for trial in range(trials):\n",
    "    for h in num_h:\n",
    "        for h_scale in num_sigmah:\n",
    "            [V_list, r_list, noise_list, H_list, V_last] = simulate(N_E=N_E, N_I=N_I, n_step=n_step, h=h, W=W_multi,\n",
    "                                                                noise_scale=noise_scale, h_scale=h_scale,start_step=2000)\n",
    "\n",
    "            exc = V_list[:N_E] # np.shape(exc) = 1 x 8000\n",
    "            inh = V_list[N_E:]\n",
    "            \n",
    "            excR = r_list[:N_E] # np.shape(exc) = 1 x 8000\n",
    "            inhR = r_list[N_E:]\n",
    "        \n",
    "            V[trial, num_h.index(h), num_sigmah.index(h_scale), :] = exc;\n",
    "            R[trial, num_h.index(h), num_sigmah.index(h_scale), :] = excR;"
   ]
  },
  {
   "cell_type": "code",
   "execution_count": 151,
   "metadata": {
    "collapsed": true
   },
   "outputs": [],
   "source": [
    "## PULL/ASSIGN RELEVANT OUTPUT ARRAYS FOR KL\n",
    "\n",
    "pdf_mat_2_0 = R[:, 0, 0, :] # H=2, std input noise =0\n",
    "pdf_mat_2_1 = R[:, 0, 1, :]\n",
    "pdf_mat_4_0 = R[:, 1, 0, :]\n",
    "pdf_mat_4_1 = R[:, 1, 1, :] # H=4, std input noise =1\n",
    "pdf_mat_6_0 = R[:, 2, 0, :]\n",
    "pdf_mat_6_1 = R[:, 2, 1, :] "
   ]
  },
  {
   "cell_type": "code",
   "execution_count": 152,
   "metadata": {},
   "outputs": [],
   "source": [
    "### FOR CALCULATING KL DIVERGENCE\n",
    "## STILL NEED TO MAKE BINS COMMON ACROSS ALL\n",
    "\n",
    "# CONCATE ALL TRIALS INTO SINGLE ARRAY\n",
    "free_2=np.ndarray.flatten(pdf_mat_2_0);\n",
    "free_4=np.ndarray.flatten(pdf_mat_4_0);\n",
    "free_6=np.ndarray.flatten(pdf_mat_6_0);\n",
    "\n",
    "noise_2=np.ndarray.flatten(pdf_mat_2_1);\n",
    "noise_4=np.ndarray.flatten(pdf_mat_4_1);\n",
    "noise_6=np.ndarray.flatten(pdf_mat_6_1);\n",
    "\n",
    "# DISCRETIZE POSSIBLE vM VALUES INTO SINGLE COMMON RANGE\n",
    "# To compare h=2 to h=4\n",
    "min1 = np.min(np.minimum(free_2, noise_2))\n",
    "max1 = np.max(np.maximum(free_4, noise_4))\n",
    "bins1 = np.linspace(min1, max1, 100)\n",
    "\n",
    "# To compare h=4 to h=6\n",
    "min2 = np.min(np.minimum(free_4, noise_4))\n",
    "max2 = np.max(np.maximum(free_6, noise_6))\n",
    "bins2 = np.linspace(min2, max2, 100)\n",
    "\n",
    "\n",
    "# GET PMFs WITH COMMON RANGE\n",
    "# Free from noise\n",
    "y = np.histogram(free_2, bins = bins1, density = True)\n",
    "y1 = np.histogram(free_4, bins = bins1, density = True)\n",
    "z = np.histogram(free_4, bins = bins2, density = True)\n",
    "z1= np.histogram(free_6, bins = bins2, density = True)\n",
    "\n",
    "# With 1 std white noise for stimulus input\n",
    "yn= np.histogram(noise_2, bins = bins1, density = True)\n",
    "yn1= np.histogram(noise_4, bins = bins1, density = True)\n",
    "zn = np.histogram(noise_4, bins = bins2, density = True)\n",
    "zn1= np.histogram(noise_6, bins = bins2, density = True)\n",
    "\n",
    "# GRAB PDF ARRAY FROM HIST TUPLE\n",
    "y_=y[0];\n",
    "y1_=y1[0];\n",
    "z_=z[0];\n",
    "z1_=z1[0];\n",
    "yn_=yn[0];\n",
    "yn1_=yn1[0];\n",
    "zn_=zn[0];\n",
    "zn1_=zn1[0];"
   ]
  },
  {
   "cell_type": "code",
   "execution_count": 165,
   "metadata": {},
   "outputs": [
    {
     "data": {
      "text/plain": [
       "[<matplotlib.lines.Line2D at 0x101a8748>]"
      ]
     },
     "execution_count": 165,
     "metadata": {},
     "output_type": "execute_result"
    },
    {
     "data": {
      "image/png": "[encoded data removed]",
      "text/plain": [
       "<matplotlib.figure.Figure at 0x141e6978>"
      ]
     },
     "metadata": {},
     "output_type": "display_data"
    },
    {
     "data": {
      "image/png": "[encoded data removed]",
      "text/plain": [
       "<matplotlib.figure.Figure at 0x10774e10>"
      ]
     },
     "metadata": {},
     "output_type": "display_data"
    }
   ],
   "source": [
    "## VISUALIZE THE R DISTRUBTION ACROSSS ALL TIMESTEPS FOR AN EXCITATORY CELL\n",
    "\n",
    "x = y_; # DESIGNATE CELL\n",
    "\n",
    "# Plot pmf of timesteps R values\n",
    "plt.figure(0)\n",
    "plt.hist(xn,100);\n",
    "\n",
    "# Plot R(t) for all trials in a single concatenated array\n",
    "plt.figure(1)\n",
    "plt.plot(xn)\n"
   ]
  },
  {
   "cell_type": "code",
   "execution_count": 145,
   "metadata": {
    "collapsed": true
   },
   "outputs": [],
   "source": [
    "# Replace all zero values in array\n",
    "def replacezero (x):\n",
    "    min_a = np.min([i for i in x if (i!=0.0)&(i!=np.nan)])\n",
    "    for i_ind, i_x in enumerate(x):\n",
    "        if i_x == 0.0:\n",
    "            x[i_ind] = min_a/2\n",
    "            \n",
    "    return x"
   ]
  },
  {
   "cell_type": "code",
   "execution_count": 153,
   "metadata": {},
   "outputs": [],
   "source": [
    "# PULL ZEROS FROM PMFs\n",
    "y_ = replacezero(y_)\n",
    "y1_ = replacezero(y1_)\n",
    "z_ = replacezero(z_)\n",
    "z1_ = replacezero(z1_)\n",
    "yn_ = replacezero(yn_)\n",
    "yn1_ = replacezero(yn1_)\n",
    "z_ = replacezero(zn_)\n",
    "zn1_ = replacezero(zn1_)"
   ]
  },
  {
   "cell_type": "code",
   "execution_count": 160,
   "metadata": {},
   "outputs": [
    {
     "data": {
      "image/png": "[encoded data removed]",
      "text/plain": [
       "<matplotlib.figure.Figure at 0x120d6940>"
      ]
     },
     "metadata": {},
     "output_type": "display_data"
    },
    {
     "data": {
      "image/png": "[encoded data removed]",
      "text/plain": [
       "<matplotlib.figure.Figure at 0xffa0240>"
      ]
     },
     "metadata": {},
     "output_type": "display_data"
    }
   ],
   "source": [
    "## FIGURES TO VISUALIZE DISTS W AND W/O NOISE\n",
    "\n",
    "bins = np.linspace(min1, max2, 100)\n",
    "\n",
    "plt.hist(y_, bins, alpha=0.5, label='x')\n",
    "plt.hist(y1_, bins, alpha=0.5, label='y')\n",
    "plt.hist(z1_, bins, alpha=0.5, label='z')\n",
    "plt.legend(loc='upper right')\n",
    "plt.show()\n",
    "\n",
    "plt.hist(yn_, bins, alpha=0.5, label='x_noise')\n",
    "plt.hist(yn1_, bins, alpha=0.5, label='y_noise')\n",
    "plt.hist(zn1_, bins, alpha=0.5, label='z_noise')\n",
    "plt.legend(loc='upper right')\n",
    "plt.show()"
   ]
  },
  {
   "cell_type": "code",
   "execution_count": 154,
   "metadata": {},
   "outputs": [
    {
     "data": {
      "text/plain": [
       "[<matplotlib.lines.Line2D at 0x130a3c18>]"
      ]
     },
     "execution_count": 154,
     "metadata": {},
     "output_type": "execute_result"
    },
    {
     "data": {
      "image/png": "[encoded data removed]",
      "text/plain": [
       "<matplotlib.figure.Figure at 0x132d6978>"
      ]
     },
     "metadata": {},
     "output_type": "display_data"
    },
    {
     "data": {
      "image/png": "[encoded data removed]",
      "text/plain": [
       "<matplotlib.figure.Figure at 0x100a5048>"
      ]
     },
     "metadata": {},
     "output_type": "display_data"
    },
    {
     "data": {
      "image/png": "[encoded data removed]",
      "text/plain": [
       "<matplotlib.figure.Figure at 0x1250e828>"
      ]
     },
     "metadata": {},
     "output_type": "display_data"
    },
    {
     "data": {
      "image/png": "[encoded data removed]",
      "text/plain": [
       "<matplotlib.figure.Figure at 0x1025c7f0>"
      ]
     },
     "metadata": {},
     "output_type": "display_data"
    }
   ],
   "source": [
    " # VISUALIZE BINNED DISTS\n",
    "plt.figure(0)\n",
    "plt.plot(y_)\n",
    "plt.plot(y1_, 'r')\n",
    "plt.figure(1)\n",
    "plt.plot(z_)\n",
    "plt.plot(z1_, 'r')\n",
    "plt.figure(2)\n",
    "plt.plot(yn_)\n",
    "plt.plot(yn1_, 'r')\n",
    "plt.figure(3)\n",
    "plt.plot(zn_)\n",
    "plt.plot(zn1_, 'r')"
   ]
  },
  {
   "cell_type": "code",
   "execution_count": 137,
   "metadata": {
    "collapsed": true
   },
   "outputs": [],
   "source": [
    "## FUNCTION TO CALC KL\n",
    "def KL(a, b):\n",
    "    a = np.asarray(a, dtype=np.float)\n",
    "    b = np.asarray(b, dtype=np.float)#\n",
    "\n",
    "    return np.sum(np.where(a != 0, a * np.log(a / b), 0))"
   ]
  },
  {
   "cell_type": "code",
   "execution_count": 148,
   "metadata": {},
   "outputs": [
    {
     "name": "stdout",
     "output_type": "stream",
     "text": [
      "2.73609447187\n",
      "2.39251186442\n",
      "2.65264883868\n",
      "0.682635536569\n"
     ]
    }
   ],
   "source": [
    "## CALC KL DIVERGENCE FOR SUPRALINEAR I/O SSN ITERATION\n",
    "klsup_f24 = KL(y_, y1_) # This calculates the KL divergence between the distribution of rate values across all timesteps of all trials\n",
    "    # Above for h=2 and h=2 comparision with zero noise\n",
    "klsup_f46 = KL(z_, z1_)\n",
    "    # Above for h=4 and h=6 comparision with zero noise\n",
    "klsup_n24 = KL(yn_, yn1_)\n",
    "    # Above for h=4 and h=6 comparision with 1 STD white noise for h input\n",
    "klsup_n46 = KL(zn_, zn1_)\n",
    "    # Above for h=4 and h=6 comparision with 1 STD white noise for h input\n",
    "\n",
    "print(klsup_f24)\n",
    "print(klsup_f46)\n",
    "print(klsup_n24)\n",
    "print(klsup_n46)"
   ]
  },
  {
   "cell_type": "code",
   "execution_count": 139,
   "metadata": {},
   "outputs": [
    {
     "name": "stdout",
     "output_type": "stream",
     "text": [
      "0.370568264338\n",
      "0.427950144193\n",
      "1.01462317097\n",
      "0.516231138149\n"
     ]
    }
   ],
   "source": [
    "## CALC KL DIVERGENCE FOR SATURATING I/O SSN INTERATION\n",
    "klsub_f24 = KL(y_, y1_)\n",
    "    # Above for h=2 and h=2 comparision with zero noise\n",
    "klsub_f46 = KL(z_, z1_)\n",
    "    # Above for h=4 and h=6 comparision with zero noise\n",
    "klsub_n24 = KL(yn_, yn1_)\n",
    "    # Above for h=2 and h=4 comparision with 1 STD white noise for h input\n",
    "klsub_n46 = KL(zn_, zn1_)\n",
    "    # Above for h=4 and h=6 comparision with 1 STD white noise for h input\n",
    "\n",
    "print(klsub_f24)\n",
    "print(klsub_f46)\n",
    "print(klsub_n24)\n",
    "print(klsub_n46)"
   ]
  },
  {
   "cell_type": "code",
   "execution_count": 155,
   "metadata": {},
   "outputs": [
    {
     "ename": "ValueError",
     "evalue": "setting an array element with a sequence.",
     "output_type": "error",
     "traceback": [
      "\u001b[1;31m---------------------------------------------------------------------------\u001b[0m",
      "\u001b[1;31mValueError\u001b[0m                                Traceback (most recent call last)",
      "\u001b[1;32m<ipython-input-155-cd704e755f15>\u001b[0m in \u001b[0;36m<module>\u001b[1;34m()\u001b[0m\n\u001b[0;32m      2\u001b[0m \u001b[0mkllin_f24\u001b[0m \u001b[1;33m=\u001b[0m \u001b[0mKL\u001b[0m\u001b[1;33m(\u001b[0m\u001b[0my_\u001b[0m\u001b[1;33m,\u001b[0m \u001b[0my1_\u001b[0m\u001b[1;33m)\u001b[0m\u001b[1;33m\u001b[0m\u001b[0m\n\u001b[0;32m      3\u001b[0m      \u001b[1;31m# Above for h=2 and h=2 comparision with zero noise\u001b[0m\u001b[1;33m\u001b[0m\u001b[1;33m\u001b[0m\u001b[0m\n\u001b[1;32m----> 4\u001b[1;33m \u001b[0mkllin_f26\u001b[0m \u001b[1;33m=\u001b[0m \u001b[0mKL\u001b[0m\u001b[1;33m(\u001b[0m\u001b[0mz_\u001b[0m\u001b[1;33m,\u001b[0m \u001b[0mz1\u001b[0m\u001b[1;33m)\u001b[0m\u001b[1;33m\u001b[0m\u001b[0m\n\u001b[0m\u001b[0;32m      5\u001b[0m      \u001b[1;31m# Above for h=4 and h=6 comparision with zero noise\u001b[0m\u001b[1;33m\u001b[0m\u001b[1;33m\u001b[0m\u001b[0m\n\u001b[0;32m      6\u001b[0m \u001b[0mkllin_n24\u001b[0m \u001b[1;33m=\u001b[0m \u001b[0mKL\u001b[0m\u001b[1;33m(\u001b[0m\u001b[0myn_\u001b[0m\u001b[1;33m,\u001b[0m \u001b[0myn1_\u001b[0m\u001b[1;33m)\u001b[0m\u001b[1;33m\u001b[0m\u001b[0m\n",
      "\u001b[1;32m<ipython-input-137-a12f465d1f6d>\u001b[0m in \u001b[0;36mKL\u001b[1;34m(a, b)\u001b[0m\n\u001b[0;32m      2\u001b[0m \u001b[1;32mdef\u001b[0m \u001b[0mKL\u001b[0m\u001b[1;33m(\u001b[0m\u001b[0ma\u001b[0m\u001b[1;33m,\u001b[0m \u001b[0mb\u001b[0m\u001b[1;33m)\u001b[0m\u001b[1;33m:\u001b[0m\u001b[1;33m\u001b[0m\u001b[0m\n\u001b[0;32m      3\u001b[0m     \u001b[0ma\u001b[0m \u001b[1;33m=\u001b[0m \u001b[0mnp\u001b[0m\u001b[1;33m.\u001b[0m\u001b[0masarray\u001b[0m\u001b[1;33m(\u001b[0m\u001b[0ma\u001b[0m\u001b[1;33m,\u001b[0m \u001b[0mdtype\u001b[0m\u001b[1;33m=\u001b[0m\u001b[0mnp\u001b[0m\u001b[1;33m.\u001b[0m\u001b[0mfloat\u001b[0m\u001b[1;33m)\u001b[0m\u001b[1;33m\u001b[0m\u001b[0m\n\u001b[1;32m----> 4\u001b[1;33m     \u001b[0mb\u001b[0m \u001b[1;33m=\u001b[0m \u001b[0mnp\u001b[0m\u001b[1;33m.\u001b[0m\u001b[0masarray\u001b[0m\u001b[1;33m(\u001b[0m\u001b[0mb\u001b[0m\u001b[1;33m,\u001b[0m \u001b[0mdtype\u001b[0m\u001b[1;33m=\u001b[0m\u001b[0mnp\u001b[0m\u001b[1;33m.\u001b[0m\u001b[0mfloat\u001b[0m\u001b[1;33m)\u001b[0m\u001b[1;31m#\u001b[0m\u001b[1;33m\u001b[0m\u001b[0m\n\u001b[0m\u001b[0;32m      5\u001b[0m \u001b[1;33m\u001b[0m\u001b[0m\n\u001b[0;32m      6\u001b[0m     \u001b[1;32mreturn\u001b[0m \u001b[0mnp\u001b[0m\u001b[1;33m.\u001b[0m\u001b[0msum\u001b[0m\u001b[1;33m(\u001b[0m\u001b[0mnp\u001b[0m\u001b[1;33m.\u001b[0m\u001b[0mwhere\u001b[0m\u001b[1;33m(\u001b[0m\u001b[0ma\u001b[0m \u001b[1;33m!=\u001b[0m \u001b[1;36m0\u001b[0m\u001b[1;33m,\u001b[0m \u001b[0ma\u001b[0m \u001b[1;33m*\u001b[0m \u001b[0mnp\u001b[0m\u001b[1;33m.\u001b[0m\u001b[0mlog\u001b[0m\u001b[1;33m(\u001b[0m\u001b[0ma\u001b[0m \u001b[1;33m/\u001b[0m \u001b[0mb\u001b[0m\u001b[1;33m)\u001b[0m\u001b[1;33m,\u001b[0m \u001b[1;36m0\u001b[0m\u001b[1;33m)\u001b[0m\u001b[1;33m)\u001b[0m\u001b[1;33m\u001b[0m\u001b[0m\n",
      "\u001b[1;32mC:\\Users\\girelab\\Anaconda27\\lib\\site-packages\\numpy\\core\\numeric.pyc\u001b[0m in \u001b[0;36masarray\u001b[1;34m(a, dtype, order)\u001b[0m\n\u001b[0;32m    529\u001b[0m \u001b[1;33m\u001b[0m\u001b[0m\n\u001b[0;32m    530\u001b[0m     \"\"\"\n\u001b[1;32m--> 531\u001b[1;33m     \u001b[1;32mreturn\u001b[0m \u001b[0marray\u001b[0m\u001b[1;33m(\u001b[0m\u001b[0ma\u001b[0m\u001b[1;33m,\u001b[0m \u001b[0mdtype\u001b[0m\u001b[1;33m,\u001b[0m \u001b[0mcopy\u001b[0m\u001b[1;33m=\u001b[0m\u001b[0mFalse\u001b[0m\u001b[1;33m,\u001b[0m \u001b[0morder\u001b[0m\u001b[1;33m=\u001b[0m\u001b[0morder\u001b[0m\u001b[1;33m)\u001b[0m\u001b[1;33m\u001b[0m\u001b[0m\n\u001b[0m\u001b[0;32m    532\u001b[0m \u001b[1;33m\u001b[0m\u001b[0m\n\u001b[0;32m    533\u001b[0m \u001b[1;33m\u001b[0m\u001b[0m\n",
      "\u001b[1;31mValueError\u001b[0m: setting an array element with a sequence."
     ]
    }
   ],
   "source": [
    "## CALC KL DIVERGENCE FOR LINEAR I/O SSN INTERATION\n",
    "kllin_f24 = KL(y_, y1_)\n",
    "     # Above for h=2 and h=2 comparision with zero noise\n",
    "kllin_f26 = KL(z_, z1)\n",
    "     # Above for h=4 and h=6 comparision with zero noise\n",
    "kllin_n24 = KL(yn_, yn1_)\n",
    "    # Above for h=2 and h=4 comparision with 1 STD white noise for h input\n",
    "kllin_n26 = KL(zn_, zn1_)\n",
    "    # Above for h=4 and h=6 comparision with 1 STD white noise for h input\n",
    "\n",
    "print(kllin_f24)\n",
    "print(kllin_f46)\n",
    "print(kllin_n24)\n",
    "print(kllin_n46)"
   ]
  },
  {
   "cell_type": "code",
   "execution_count": null,
   "metadata": {
    "collapsed": true
   },
   "outputs": [],
   "source": []
  }
 ],
 "metadata": {
  "kernelspec": {
   "display_name": "Python 2",
   "language": "python",
   "name": "python2"
  },
  "language_info": {
   "codemirror_mode": {
    "name": "ipython",
    "version": 2
   },
   "file_extension": ".py",
   "mimetype": "text/x-python",
   "name": "python",
   "nbconvert_exporter": "python",
   "pygments_lexer": "ipython2",
   "version": "2.7.13"
  }
 },
 "nbformat": 4,
 "nbformat_minor": 2
}
