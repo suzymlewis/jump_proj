{
 "cells": [
  {
   "cell_type": "code",
   "execution_count": 3,
   "metadata": {},
   "outputs": [],
   "source": [
    "import numpy as np\n",
    "import matplotlib.pyplot as plt\n",
    "%matplotlib inline \n",
    "from scipy.stats import norm "
   ]
  },
  {
   "cell_type": "code",
   "execution_count": 34,
   "metadata": {},
   "outputs": [],
   "source": [
    "def regenerate_fig_2b():\n",
    "    V = np.arange(-80, -50, 1)\n",
    "    V_rest = -70.0*np.ones((len(V)),)\n",
    "    k = 0.3\n",
    "    n = 2.0\n",
    "    #R = 10*k*np.maximum(0.0,(V-V_rest))                       #linear\n",
    "    #R = k*np.power(np.maximum(0.0, np.floor(V-V_rest)), n) #supralinear\n",
    "    R = 70*(1/(1+np.exp(-V+V_rest+10)))                        #sublinear/sigmoid\n",
    "    \n",
    "    ax = plt.subplot(111)\n",
    "    ax.spines['right'].set_visible(False)\n",
    "    ax.spines['top'].set_visible(False)\n",
    "    plt.title('single-neuron I/O function (Figure 2, B)', fontsize=12)\n",
    "    plt.xlabel(' Vm [mV]', fontsize=12)\n",
    "    plt.ylabel('rate [Hz]', fontsize=12)\n",
    "    plt.plot(V, R)"
   ]
  },
  {
   "cell_type": "code",
   "execution_count": 35,
   "metadata": {},
   "outputs": [
    {
     "data": {
      "image/png": "[encoded data removed]",
      "text/plain": [
       "<Figure size 432x288 with 1 Axes>"
      ]
     },
     "metadata": {},
     "output_type": "display_data"
    }
   ],
   "source": [
    "regenerate_fig_2b()"
   ]
  },
  {
   "cell_type": "code",
   "execution_count": 36,
   "metadata": {},
   "outputs": [],
   "source": [
    "def generate_Weiner_process(m, n_steps, dt, scale=0.1):\n",
    "    \"\"\"\n",
    "    Generate m Weiner process \n",
    "    \"\"\"\n",
    "    r = norm.rvs(size=(m, n_steps), scale = scale)\n",
    "    out = np.cumsum(r, axis=-1)\n",
    "    return out"
   ]
  },
  {
   "cell_type": "code",
   "execution_count": 37,
   "metadata": {},
   "outputs": [],
   "source": [
    "V_rest = -70.0 # mV, resting membrane potential\n",
    "\n",
    "tau_E = 20.0 # ms, E neuron time constant \n",
    "tau_I = 10.0 # ms, I neuron time constant \n",
    "\n",
    "W_EE = 1.25 # mV*s, connection weight \n",
    "W_IE = 1.2 # mV*s, connection weight\n",
    "W_EI = 0.65 # mV*s, connection weight\n",
    "W_II = 0.5 # mV*s, connection weight\n",
    "\n",
    "b = 2.0 # mV, input baseline\n",
    "\n",
    "sigma_0E = 0.2 # mV, noise standard deviation \n",
    "sigma_0I = 0.1 # mV, noise standard deviation \n",
    "\n",
    "tau_noise = 50.0 # ms, noise correlation time constant \n",
    "\n",
    "k = 0.3 # mV^-n*s^-1, nonlinearity gain \n",
    "n = 2 # nonlinearity exponent \n",
    "\n",
    "dt = 0.1 # time step"
   ]
  },
  {
   "cell_type": "code",
   "execution_count": 38,
   "metadata": {},
   "outputs": [],
   "source": [
    "# checked Nov 21st\n",
    "\n",
    "sigma_noise = np.zeros((2,2))\n",
    "sigma_noise[0,0] = (np.power(sigma_0E,2))*(1+tau_E/tau_noise)\n",
    "sigma_noise[1,1] = (np.power(sigma_0I,2))*(1+tau_I/tau_noise)"
   ]
  },
  {
   "cell_type": "code",
   "execution_count": 39,
   "metadata": {},
   "outputs": [],
   "source": [
    "W = np.array([[W_EE, -W_EI],\n",
    "            [W_IE, -W_II]])"
   ]
  },
  {
   "cell_type": "code",
   "execution_count": 40,
   "metadata": {},
   "outputs": [],
   "source": [
    "tau = [tau_E, tau_I]"
   ]
  },
  {
   "cell_type": "code",
   "execution_count": 41,
   "metadata": {},
   "outputs": [],
   "source": [
    "def generate_noise(n_step, \n",
    "                   N_E=1,\n",
    "                   N_I=1,\n",
    "                   scale=0.1,\n",
    "                   tau_noise = tau_noise,\n",
    "                   sigma_noise = sigma_noise):\n",
    "    \"\"\"\n",
    "    Generate input noise for N units, each unit for n_steps\n",
    "    \"\"\"\n",
    "    N = N_E+N_I\n",
    "    # record \n",
    "    noise_list = np.empty((N, n_step))\n",
    "    \n",
    "    # initialize \n",
    "    noise = np.zeros((N,))\n",
    "    \n",
    "    r = norm.rvs(size=(N, n_step), scale = scale)\n",
    "    \n",
    "    # pregenerate Weiner process \n",
    "    #Weiner = generate_Weiner_process(N, n_step, dt, scale=scale)\n",
    "    \n",
    "    sigma_noise_multi = np.concatenate((sigma_noise[0,0]*np.ones((N_E,1)), sigma_noise[1,1]*np.ones((N_I,1))), axis=None)\n",
    "    sigma_noise = np.diag(sigma_noise_multi)\n",
    "    \n",
    "    for i_step in range(n_step):\n",
    "        \n",
    "        # update noise \n",
    "        # checked Nov 20th \n",
    "        d_noise = (-noise*dt + (np.sqrt(2*tau_noise*sigma_noise)).dot(r[:,i_step]))/tau_noise\n",
    "        noise = noise + d_noise\n",
    "        noise_list[:,i_step] = noise\n",
    "        \n",
    "    return noise_list"
   ]
  },
  {
   "cell_type": "code",
   "execution_count": 52,
   "metadata": {},
   "outputs": [],
   "source": [
    "def simulate(N_E=1,\n",
    "             N_I=1,\n",
    "             V_rest = V_rest, \n",
    "             n_step = 10000, # default simulate for 1s\n",
    "             start_step = 0,\n",
    "             dt = 0.1, \n",
    "             h = b, \n",
    "             W = W, \n",
    "             k = k, \n",
    "             n = n,\n",
    "             tau = tau,\n",
    "             noise_scale=1.0,\n",
    "             h_scale=0,\n",
    "             V_init = None):\n",
    "    \"\"\"\n",
    "    V_rest: resting potential \n",
    "    N: total number of neurons \n",
    "    n_step: total simulation steps \n",
    "    dt: simulation time step \n",
    "    h: constant input \n",
    "    W: exc and inh weights\n",
    "    k,n: parameter for r supralinear function\n",
    "    tau: list of tau for corresponding units \n",
    "    \"\"\"\n",
    "    \n",
    "    # Initialization\n",
    "    N = N_E+N_I\n",
    "    tau = np.concatenate((tau_E*np.ones((N_E,1)), tau_I*np.ones((N_I,1))), axis=None)\n",
    "    \n",
    "    if V_init is None: \n",
    "        V = V_rest * np.ones((N,)) # start at resting potential \n",
    "    else: \n",
    "        V = V_init\n",
    "    V_rest_vec = V_rest*np.ones((N,))\n",
    "    # pre-calculate input strenght noise\n",
    "    h = np.random.normal(h,h_scale,n_step)\n",
    "    #H = h*np.ones((N,))\n",
    "    noise = np.zeros((N,))\n",
    "    \n",
    "    # record \n",
    "    record_step = n_step - start_step\n",
    "    V_list = np.empty((N, record_step))\n",
    "    noise_record_list = np.empty((N, record_step))\n",
    "    r_list = np.empty((N, record_step))\n",
    "    H_list = np.empty((N, record_step))\n",
    "    \n",
    "    # pre-generate noise \n",
    "    noise_list = generate_noise(n_step,N_E, N_I, scale=noise_scale)\n",
    "    \n",
    "    \n",
    "    for i_step in range(n_step):\n",
    "        # change input strength\n",
    "        H = h[i_step]*np.ones((N,))\n",
    "        # get noise \n",
    "        noise = noise_list[:,i_step]\n",
    "        \n",
    "        # get R \n",
    "        # checked Nov 20th \n",
    "        #R = 10*k*np.maximum(0.0,(V-V_rest))                       #linear\n",
    "        R = k*np.power(np.maximum(0.0, np.floor(V-V_rest)), n) #supralinear\n",
    "        #R = 70*(1/(1+np.exp(-V+V_rest+10)))                        #sublinear/sigmoid\n",
    "\n",
    "\n",
    "        \n",
    "        # update membrane potential \n",
    "        dv = np.divide(dt*(-V + V_rest_vec + H + noise + W.dot(R)), tau)\n",
    "        # dv = np.divide(dt*(-V + V_rest_vec + H + noise), tau) # verified for the case of feedforward, Nov 21st\n",
    "        # dv = np.divide(dt*(-V + V_rest_vec + H + W.dot(R)), tau) # verified for the case of no noise, Nov 21st \n",
    "        V = V + dv \n",
    "        \n",
    "        # record \n",
    "        if i_step >= start_step: \n",
    "            r_list[:,i_step-start_step] = R\n",
    "            V_list[:,i_step-start_step] = V\n",
    "            noise_record_list[:,i_step-start_step] = noise\n",
    "            H_list[:,i_step-start_step] = H\n",
    "        \n",
    "    V_last = V\n",
    "        \n",
    "    return V_list, r_list, noise_record_list, H_list, V_last"
   ]
  },
  {
   "cell_type": "code",
   "execution_count": 54,
   "metadata": {},
   "outputs": [
    {
     "data": {
      "text/plain": [
       "[<matplotlib.lines.Line2D at 0x222439bf710>]"
      ]
     },
     "execution_count": 54,
     "metadata": {},
     "output_type": "execute_result"
    },
    {
     "data": {
      "image/png": "[encoded data removed]",
      "text/plain": [
       "<Figure size 432x288 with 1 Axes>"
      ]
     },
     "metadata": {},
     "output_type": "display_data"
    }
   ],
   "source": [
    "[V_list, r_list, noise_list, H_list, V_last] = simulate(N_E=1, N_I=1, n_step=10000, h=15,\n",
    "                                                        noise_scale=1, h_scale=0,start_step=0)\n",
    "plt.plot(r_list[0,:])"
   ]
  },
  {
   "cell_type": "code",
   "execution_count": 46,
   "metadata": {},
   "outputs": [
    {
     "data": {
      "text/plain": [
       "Text(0.5,0,'input h [mV]')"
      ]
     },
     "execution_count": 46,
     "metadata": {},
     "output_type": "execute_result"
    },
    {
     "data": {
      "image/png": "[encoded data removed]",
      "text/plain": [
       "<Figure size 432x432 with 1 Axes>"
      ]
     },
     "metadata": {},
     "output_type": "display_data"
    }
   ],
   "source": [
    "####NEW THING 12/3####\n",
    "# initialize variables\n",
    "N_E = 1        #number excitatory\n",
    "N_I = 1        #number inhibitory\n",
    "h = 10           #starting input strength\n",
    "noise_scale = 1  #std of cells\n",
    "h_scale = 1      #std of h\n",
    "n_step = 10000   #number of timesteps; 10000=1sec\n",
    "\n",
    "W_multi=W\n",
    "#W_multi=get_connectivity(N_E,N_I)\n",
    "\n",
    "V_var = np.empty([20,2])\n",
    "V_var_std = np.empty([20,2])\n",
    "for h in range(20):\n",
    "    V_last_list = np.empty([10,2])\n",
    "    for trial in range(10):\n",
    "        [V_list, r_list, noise_list, H_list, V_last] = simulate(N_E=N_E, N_I=N_I, n_step=n_step, h=h, W=W_multi,\n",
    "                                                        noise_scale=noise_scale, h_scale=h_scale,start_step=2000)\n",
    "        exc = V_list[:N_E]\n",
    "        inh = V_list[N_E:]\n",
    "        V_last_list[trial] = [np.std(exc),np.std(inh)]\n",
    "    V_var[h] = np.mean(V_last_list,axis=0)\n",
    "    V_var_std[h] = np.std(V_last_list,axis=0)\n",
    "\n",
    "f, (ax3) = plt.subplots(1, 1, figsize=(6,6))\n",
    "plot_figure_2d_subplot(ax=ax3,\n",
    "                       data_list=V_var, \n",
    "                       error_list=V_var_std,\n",
    "                       ylabel='V_E/I std [mV]')\n",
    "plt.xlabel('input h [mV]')\n",
    "#plt.plot(np.arange(20),V_var[:,0],color='red')\n",
    "#plt.plot(np.arange(20),V_var[:,1],color='blue')\n",
    "\n",
    "#exc = V_list[:N_E]\n",
    "#inh = V_list[N_E:]\n",
    "\n",
    "#plot voltage traces\n",
    "#plt.plot(np.arange(n_step),np.mean(exc,axis=0),color='red')\n",
    "#plt.plot(np.arange(n_step),np.mean(inh,axis=0),color='blue')"
   ]
  },
  {
   "cell_type": "code",
   "execution_count": 55,
   "metadata": {},
   "outputs": [
    {
     "data": {
      "image/png": "[encoded data removed]",
      "text/plain": [
       "<Figure size 432x288 with 1 Axes>"
      ]
     },
     "metadata": {},
     "output_type": "display_data"
    }
   ],
   "source": [
    "####NEW THING 12/4####\n",
    "# initialize variables\n",
    "N_E = 1        #number excitatory\n",
    "N_I = 1        #number inhibitory\n",
    "h = 10           #starting input strength\n",
    "noise_scale = 1  #std of cells\n",
    "h_scale = 0      #std of h\n",
    "n_step = 10000   #number of timesteps; 10000=1sec\n",
    "\n",
    "W_multi=W\n",
    "#W_multi=get_connectivity(N_E,N_I)\n",
    "\n",
    "trials = 10\n",
    "num_h = [0,1,2,3,4,5,6,7,8,9,10,11,12]\n",
    "num_sigmah = [0,0.25,0.5,0.75,1,1.25,1.5,1.75,2]\n",
    "mean_V = np.empty([trials,len(num_h),len(num_sigmah)])\n",
    "for trial in range(trials):\n",
    "    for h in num_h:\n",
    "        for h_scale in num_sigmah:\n",
    "            [V_list, r_list, noise_list, H_list, V_last] = simulate(N_E=N_E, N_I=N_I, n_step=n_step, h=h, W=W_multi,\n",
    "                                                                noise_scale=noise_scale, h_scale=h_scale,start_step=2000)\n",
    "\n",
    "            exc = V_list[:N_E]\n",
    "            inh = V_list[N_E:]\n",
    "        \n",
    "            mean_V[trial,num_h.index(h),num_sigmah.index(h_scale)] = np.std(exc)\n",
    "\n",
    "var_V = np.mean(mean_V,axis=0)\n",
    "plt.imshow(var_V, cmap='Reds', interpolation='nearest')\n",
    "plt.show()\n",
    "\n",
    "#plot voltage traces\n",
    "#plt.plot(np.arange(n_step),np.mean(exc,axis=0),color='red')\n",
    "#plt.plot(np.arange(n_step),np.mean(inh,axis=0),color='blue')"
   ]
  },
  {
   "cell_type": "code",
   "execution_count": null,
   "metadata": {},
   "outputs": [],
   "source": [
    "  #######################################################################\n",
    "  ##           CELLS AFTER THIS ARE FOR RECREATING FIGURE 2            ##\n",
    "  ##     I MIGHT HAVE MESSED STUFF UP IN THERE SO DON'T RELY ON IT     ##\n",
    "  ##                                                                   ##\n",
    "  ## NEXT STEP IS PROBABLY DOING MULTIPLE TRIALS AND PLOTTING VARIANCE ##\n",
    "  ##     AS WELL AS PLOTTING CONFIDENCE INTERVALS FOR FIGURE ABOVE     ##\n",
    "  #######################################################################"
   ]
  },
  {
   "cell_type": "code",
   "execution_count": 26,
   "metadata": {},
   "outputs": [],
   "source": [
    "def regenerate_figure_2c():\n",
    "    \n",
    "    H_total_list = np.empty((2, 100000))\n",
    "    V_total_list = np.empty((2, 100000))\n",
    "    \n",
    "    for i in range(10):\n",
    "        \n",
    "        if i==0: \n",
    "            [V_list, r_list, noise_list, H_list, V_last]  = simulate(h=0.0)\n",
    "        elif i ==1: \n",
    "            [V_list, r_list, noise_list, H_list, V_last]  = simulate(h=0.0, V_init = V_last)\n",
    "        elif i<6:\n",
    "            [V_list, r_list, noise_list, H_list, V_last]  = simulate(h=2.0, V_init = V_last)\n",
    "        else:\n",
    "            [V_list, r_list, noise_list, H_list, V_last]  = simulate(h=15.0, V_init = V_last)\n",
    "        \n",
    "        # record \n",
    "        H_total_list[:,i*10000:(i+1)*10000] = H_list \n",
    "        V_total_list[:,i*10000:(i+1)*10000] = V_list \n",
    "        \n",
    "    T_list = np.arange(0,10,0.0001)\n",
    "        \n",
    "    f, (ax1, ax2) = plt.subplots(2, 1, figsize=(6,4))\n",
    "    \n",
    "    ax1.plot(T_list, V_total_list[0], label='exc', color='red')\n",
    "    ax1.plot(T_list, V_total_list[1], label='inh', color='blue')\n",
    "    ax1.spines['right'].set_visible(False)\n",
    "    ax1.spines['top'].set_visible(False)\n",
    "    ax1.spines['bottom'].set_visible(False)\n",
    "    ax1.set_ylabel(' V_E/I [mV]', fontsize=12)\n",
    "    ax1.legend()\n",
    "\n",
    "    ax2.spines['right'].set_visible(False)\n",
    "    ax2.spines['top'].set_visible(False)\n",
    "    ax2.plot(T_list, H_total_list[0])\n",
    "    ax2.set_ylabel('h [mV]', fontsize=12)\n",
    "    plt.xlabel('time (s)', fontsize=12)\n",
    "    \n",
    "    return H_total_list, V_total_list"
   ]
  },
  {
   "cell_type": "code",
   "execution_count": 27,
   "metadata": {},
   "outputs": [
    {
     "data": {
      "image/png": "[encoded data removed]",
      "text/plain": [
       "<Figure size 432x288 with 2 Axes>"
      ]
     },
     "metadata": {},
     "output_type": "display_data"
    }
   ],
   "source": [
    "[H_total_list, V_total_list] = regenerate_figure_2c()"
   ]
  },
  {
   "cell_type": "code",
   "execution_count": 64,
   "metadata": {},
   "outputs": [
    {
     "name": "stdout",
     "output_type": "stream",
     "text": [
      "[[0.  0.  0.  ... 0.  0.  0. ]\n",
      " [0.  0.  0.  ... 0.3 0.3 0.3]]\n"
     ]
    },
    {
     "data": {
      "text/plain": [
       "(array([ 879.,    0.,    0.,    0.,    0.,    0.,    0.,    0.,    0.,\n",
       "           0.,    0.,    0.,    0.,    0.,    0.,    0.,    0.,    0.,\n",
       "           0.,    0.,    0.,    0.,    0.,    0.,    0., 5753.,    0.,\n",
       "           0.,    0.,    0.,    0.,    0.,    0.,    0.,    0.,    0.,\n",
       "           0.,    0.,    0.,    0.,    0.,    0.,    0.,    0.,    0.,\n",
       "           0.,    0.,    0.,    0.,    0.,    0.,    0.,    0.,    0.,\n",
       "           0.,    0.,    0.,    0.,    0.,    0.,    0.,    0.,    0.,\n",
       "           0.,    0.,    0.,    0.,    0.,    0.,    0.,    0.,    0.,\n",
       "           0.,    0.,    0.,    0.,    0.,    0.,    0.,    0.,    0.,\n",
       "           0.,    0.,    0.,    0.,    0.,    0.,    0.,    0.,    0.,\n",
       "           0.,    0.,    0.,    0.,    0.,    0.,    0.,    0.,    0.,\n",
       "        3368.]),\n",
       " array([0.   , 0.012, 0.024, 0.036, 0.048, 0.06 , 0.072, 0.084, 0.096,\n",
       "        0.108, 0.12 , 0.132, 0.144, 0.156, 0.168, 0.18 , 0.192, 0.204,\n",
       "        0.216, 0.228, 0.24 , 0.252, 0.264, 0.276, 0.288, 0.3  , 0.312,\n",
       "        0.324, 0.336, 0.348, 0.36 , 0.372, 0.384, 0.396, 0.408, 0.42 ,\n",
       "        0.432, 0.444, 0.456, 0.468, 0.48 , 0.492, 0.504, 0.516, 0.528,\n",
       "        0.54 , 0.552, 0.564, 0.576, 0.588, 0.6  , 0.612, 0.624, 0.636,\n",
       "        0.648, 0.66 , 0.672, 0.684, 0.696, 0.708, 0.72 , 0.732, 0.744,\n",
       "        0.756, 0.768, 0.78 , 0.792, 0.804, 0.816, 0.828, 0.84 , 0.852,\n",
       "        0.864, 0.876, 0.888, 0.9  , 0.912, 0.924, 0.936, 0.948, 0.96 ,\n",
       "        0.972, 0.984, 0.996, 1.008, 1.02 , 1.032, 1.044, 1.056, 1.068,\n",
       "        1.08 , 1.092, 1.104, 1.116, 1.128, 1.14 , 1.152, 1.164, 1.176,\n",
       "        1.188, 1.2  ]),\n",
       " <a list of 100 Patch objects>)"
      ]
     },
     "execution_count": 64,
     "metadata": {},
     "output_type": "execute_result"
    },
    {
     "data": {
      "image/png": "[encoded data removed]",
      "text/plain": [
       "<Figure size 432x288 with 1 Axes>"
      ]
     },
     "metadata": {},
     "output_type": "display_data"
    }
   ],
   "source": [
    "[V_list, r_list, noise_list, H_list, V_last]  = simulate(n_step=10000, h=2)\n",
    "print(r_list)\n",
    "plt.hist(r_list[0,:],100)\n"
   ]
  },
  {
   "cell_type": "code",
   "execution_count": 52,
   "metadata": {},
   "outputs": [],
   "source": [
    "def simulate_figure_2d(h_max = 20,\n",
    "                        n_trials = 5,\n",
    "                        n_step = 20000,\n",
    "                        start_step = 2000):\n",
    "    \"\"\"\n",
    "    Regenerate figure 2D \n",
    "    \n",
    "    Arguments \n",
    "    ---------\n",
    "    n_trials: number of simulations to average over, 500 in the paper \n",
    "    \"\"\"\n",
    "    \n",
    "    # get range of h to test\n",
    "    h_range = np.arange(h_max+1)\n",
    "    \n",
    "    # record \n",
    "    V_std_list = np.empty((n_trials, h_max+1, 3))\n",
    "    V_mean_list = np.empty((n_trials, h_max+1, 3))\n",
    "    r_mean_list = np.empty((n_trials, h_max+1, 3))\n",
    "    \n",
    "    # simulate \n",
    "    for i_h, h in enumerate(h_range):\n",
    "        \n",
    "        for i_trial in range(n_trials):\n",
    "            \n",
    "            # simulate \n",
    "            [V_list, r_list, noise_list, H_list, V_last]  = simulate(n_step=n_step, \n",
    "                                                                     h=h, \n",
    "                                                                     W = np.array([[W_EE, -W_EI],[W_IE, -W_II]]),\n",
    "                                                                     start_step=start_step) # allow for 2s to set to stable\n",
    "            \n",
    "            # record \n",
    "            V_std_list[i_trial][i_h][:2] = np.std(V_list, axis=1)\n",
    "            V_mean_list[i_trial][i_h][:2] = np.mean(V_list, axis=1)\n",
    "            r_mean_list[i_trial][i_h][:2] = np.mean(r_list, axis=1)\n",
    "            \n",
    "            # simulate for feedforward \n",
    "            [V_list, r_list, noise_list, H_list, V_last]  = simulate(n_step=n_step, \n",
    "                                                                     h=h, \n",
    "                                                                     W=np.zeros((2,2)),\n",
    "                                                                     start_step=start_step)\n",
    "            V_std_list[i_trial][i_h][2] = np.std(V_list[0])\n",
    "            V_mean_list[i_trial][i_h][2] = np.mean(V_list[0])\n",
    "            r_mean_list[i_trial][i_h][2] = np.mean(r_list[0])\n",
    "            \n",
    "            \n",
    "            \n",
    "    return V_std_list, V_mean_list, r_mean_list"
   ]
  },
  {
   "cell_type": "code",
   "execution_count": 32,
   "metadata": {},
   "outputs": [],
   "source": [
    "def plot_figure_2d_subplot(ax, data_list, error_list, ylabel):\n",
    "    h_range = np.arange(len(data_list))\n",
    "    ax.spines['right'].set_visible(False)\n",
    "    ax.spines['top'].set_visible(False)\n",
    "    color_list = ['red', 'blue', 'gray']\n",
    "    for i in range(data_list.shape[1]):\n",
    "        ax.plot(h_range,data_list[:,i], color=color_list[i])\n",
    "        ax.fill_between(h_range, \n",
    "                        data_list[:,i]-error_list[:,i],\n",
    "                        data_list[:,i]+error_list[:,i],\n",
    "                       alpha=0.3,\n",
    "                       color=color_list[i])\n",
    "    ax.set_ylabel(ylabel)"
   ]
  },
  {
   "cell_type": "code",
   "execution_count": 54,
   "metadata": {},
   "outputs": [],
   "source": [
    "def regenerate_figure_2d(h_max=20,\n",
    "                        n_trials=10):\n",
    "    \n",
    "    [V_std_list, V_mean_list, r_mean_list] = simulate_figure_2d(h_max=h_max, \n",
    "                                                                n_trials=n_trials)\n",
    "    \n",
    "    V_std_mean = np.mean(V_std_list, axis=0)\n",
    "    V_mean_mean = np.mean(V_mean_list, axis=0)\n",
    "    r_mean_mean = np.mean(r_mean_list, axis=0)\n",
    "\n",
    "    V_std_std = np.std(V_std_list, axis=0)\n",
    "    V_mean_std = np.std(V_mean_list, axis=0)\n",
    "    r_mean_std = np.std(r_mean_list, axis=0)\n",
    "    \n",
    "    f, (ax1, ax2, ax3) = plt.subplots(3, 1, figsize=(6,6))\n",
    "    plot_figure_2d_subplot(ax=ax1,\n",
    "                           data_list=r_mean_mean, \n",
    "                           error_list=r_mean_std,\n",
    "                           ylabel='mean rate [Hz]')\n",
    "    \n",
    "    plot_figure_2d_subplot(ax=ax2,\n",
    "                           data_list=V_mean_mean, \n",
    "                           error_list=V_mean_std,\n",
    "                           ylabel='mean V_E/I [mV]')\n",
    "    plot_figure_2d_subplot(ax=ax3,\n",
    "                           data_list=V_std_mean, \n",
    "                           error_list=V_std_std,\n",
    "                           ylabel='V_E/I std [mV]')\n",
    "    plt.xlabel('input h [mV]')\n",
    "    \n",
    "    np.savez('figure_2d_data',\n",
    "            V_std_list = V_std_list, \n",
    "            V_mean_list = V_mean_list,\n",
    "            r_mean_list = r_mean_list)\n",
    "    \n",
    "    return r_mean_mean[:,0], r_mean_mean[:,1] #return only used for polyfit cell. unnecessary otherwise"
   ]
  },
  {
   "cell_type": "code",
   "execution_count": 55,
   "metadata": {},
   "outputs": [
    {
     "ename": "KeyboardInterrupt",
     "evalue": "",
     "output_type": "error",
     "traceback": [
      "\u001b[1;31m---------------------------------------------------------------------------\u001b[0m",
      "\u001b[1;31mKeyboardInterrupt\u001b[0m                         Traceback (most recent call last)",
      "\u001b[1;32m<ipython-input-55-e2b8be6eeb73>\u001b[0m in \u001b[0;36m<module>\u001b[1;34m()\u001b[0m\n\u001b[1;32m----> 1\u001b[1;33m \u001b[0mregenerate_figure_2d\u001b[0m\u001b[1;33m(\u001b[0m\u001b[1;33m)\u001b[0m\u001b[1;33m\u001b[0m\u001b[0m\n\u001b[0m",
      "\u001b[1;32m<ipython-input-54-2beaada1dfd4>\u001b[0m in \u001b[0;36mregenerate_figure_2d\u001b[1;34m(h_max, n_trials)\u001b[0m\n\u001b[0;32m      3\u001b[0m \u001b[1;33m\u001b[0m\u001b[0m\n\u001b[0;32m      4\u001b[0m     [V_std_list, V_mean_list, r_mean_list] = simulate_figure_2d(h_max=h_max, \n\u001b[1;32m----> 5\u001b[1;33m                                                                 n_trials=n_trials)\n\u001b[0m\u001b[0;32m      6\u001b[0m \u001b[1;33m\u001b[0m\u001b[0m\n\u001b[0;32m      7\u001b[0m     \u001b[0mV_std_mean\u001b[0m \u001b[1;33m=\u001b[0m \u001b[0mnp\u001b[0m\u001b[1;33m.\u001b[0m\u001b[0mmean\u001b[0m\u001b[1;33m(\u001b[0m\u001b[0mV_std_list\u001b[0m\u001b[1;33m,\u001b[0m \u001b[0maxis\u001b[0m\u001b[1;33m=\u001b[0m\u001b[1;36m0\u001b[0m\u001b[1;33m)\u001b[0m\u001b[1;33m\u001b[0m\u001b[0m\n",
      "\u001b[1;32m<ipython-input-52-23c16ccd4ff0>\u001b[0m in \u001b[0;36msimulate_figure_2d\u001b[1;34m(h_max, n_trials, n_step, start_step)\u001b[0m\n\u001b[0;32m     28\u001b[0m                                                                      \u001b[0mh\u001b[0m\u001b[1;33m=\u001b[0m\u001b[0mh\u001b[0m\u001b[1;33m,\u001b[0m\u001b[1;33m\u001b[0m\u001b[0m\n\u001b[0;32m     29\u001b[0m                                                                      \u001b[0mW\u001b[0m \u001b[1;33m=\u001b[0m \u001b[0mnp\u001b[0m\u001b[1;33m.\u001b[0m\u001b[0marray\u001b[0m\u001b[1;33m(\u001b[0m\u001b[1;33m[\u001b[0m\u001b[1;33m[\u001b[0m\u001b[0mW_EE\u001b[0m\u001b[1;33m,\u001b[0m \u001b[1;33m-\u001b[0m\u001b[0mW_EI\u001b[0m\u001b[1;33m]\u001b[0m\u001b[1;33m,\u001b[0m\u001b[1;33m[\u001b[0m\u001b[0mW_IE\u001b[0m\u001b[1;33m,\u001b[0m \u001b[1;33m-\u001b[0m\u001b[0mW_II\u001b[0m\u001b[1;33m]\u001b[0m\u001b[1;33m]\u001b[0m\u001b[1;33m)\u001b[0m\u001b[1;33m,\u001b[0m\u001b[1;33m\u001b[0m\u001b[0m\n\u001b[1;32m---> 30\u001b[1;33m                                                                      start_step=start_step) # allow for 2s to set to stable\n\u001b[0m\u001b[0;32m     31\u001b[0m \u001b[1;33m\u001b[0m\u001b[0m\n\u001b[0;32m     32\u001b[0m             \u001b[1;31m# record\u001b[0m\u001b[1;33m\u001b[0m\u001b[1;33m\u001b[0m\u001b[0m\n",
      "\u001b[1;32m<ipython-input-51-195f0dad081d>\u001b[0m in \u001b[0;36msimulate\u001b[1;34m(N_E, N_I, V_rest, n_step, start_step, dt, h, W, k, n, tau, noise_scale, h_scale, V_init)\u001b[0m\n\u001b[0;32m     73\u001b[0m             \u001b[0mV_list\u001b[0m\u001b[1;33m[\u001b[0m\u001b[1;33m:\u001b[0m\u001b[1;33m,\u001b[0m\u001b[0mi_step\u001b[0m\u001b[1;33m-\u001b[0m\u001b[0mstart_step\u001b[0m\u001b[1;33m]\u001b[0m \u001b[1;33m=\u001b[0m \u001b[0mV\u001b[0m\u001b[1;33m\u001b[0m\u001b[0m\n\u001b[0;32m     74\u001b[0m             \u001b[0mnoise_record_list\u001b[0m\u001b[1;33m[\u001b[0m\u001b[1;33m:\u001b[0m\u001b[1;33m,\u001b[0m\u001b[0mi_step\u001b[0m\u001b[1;33m-\u001b[0m\u001b[0mstart_step\u001b[0m\u001b[1;33m]\u001b[0m \u001b[1;33m=\u001b[0m \u001b[0mnoise\u001b[0m\u001b[1;33m\u001b[0m\u001b[0m\n\u001b[1;32m---> 75\u001b[1;33m             \u001b[0mH_list\u001b[0m\u001b[1;33m[\u001b[0m\u001b[1;33m:\u001b[0m\u001b[1;33m,\u001b[0m\u001b[0mi_step\u001b[0m\u001b[1;33m-\u001b[0m\u001b[0mstart_step\u001b[0m\u001b[1;33m]\u001b[0m \u001b[1;33m=\u001b[0m \u001b[0mH\u001b[0m\u001b[1;33m\u001b[0m\u001b[0m\n\u001b[0m\u001b[0;32m     76\u001b[0m \u001b[1;33m\u001b[0m\u001b[0m\n\u001b[0;32m     77\u001b[0m     \u001b[0mV_last\u001b[0m \u001b[1;33m=\u001b[0m \u001b[0mV\u001b[0m\u001b[1;33m\u001b[0m\u001b[0m\n",
      "\u001b[1;31mKeyboardInterrupt\u001b[0m: "
     ]
    }
   ],
   "source": [
    "regenerate_figure_2d()"
   ]
  },
  {
   "cell_type": "code",
   "execution_count": null,
   "metadata": {},
   "outputs": [],
   "source": [
    "##POLYFIT. SLOW. 12/3\n",
    "[Freq_E,Freq_I] = regenerate_figure_2d()\n",
    "plt.subplot(2,1,1)\n",
    "plt.plot(Freq_E)\n",
    "print(np.polyfit(np.arange(Freq_E.size),Freq_E,2))\n",
    "\n",
    "plt.subplot(2,1,2)\n",
    "plt.plot(Freq_I)\n",
    "print(np.polyfit(np.arange(Freq_I.size),Freq_I,2))\n",
    "\n"
   ]
  },
  {
   "cell_type": "code",
   "execution_count": null,
   "metadata": {
    "collapsed": true
   },
   "outputs": [],
   "source": []
  }
 ],
 "metadata": {
  "kernelspec": {
   "display_name": "Python 3",
   "language": "python",
   "name": "python3"
  },
  "language_info": {
   "codemirror_mode": {
    "name": "ipython",
    "version": 3
   },
   "file_extension": ".py",
   "mimetype": "text/x-python",
   "name": "python",
   "nbconvert_exporter": "python",
   "pygments_lexer": "ipython3",
   "version": "3.6.5"
  }
 },
 "nbformat": 4,
 "nbformat_minor": 1
}
