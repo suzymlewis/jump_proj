{
 "cells": [
  {
   "cell_type": "code",
   "execution_count": 335,
   "metadata": {
    "collapsed": true
   },
   "outputs": [],
   "source": [
    "import numpy as np \n",
    "import matplotlib.pyplot as plt \n",
    "%matplotlib inline \n",
    "from scipy.stats import norm \n",
    "from scipy.ndimage import gaussian_filter1d\n",
    "from scipy import linalg"
   ]
  },
  {
   "cell_type": "code",
   "execution_count": 2,
   "metadata": {
    "collapsed": true
   },
   "outputs": [],
   "source": [
    "V_rest = -70.0 # mV, resting membrane potential "
   ]
  },
  {
   "cell_type": "code",
   "execution_count": 3,
   "metadata": {
    "collapsed": true
   },
   "outputs": [],
   "source": [
    "dt = 0.1 # ms, simulation time step "
   ]
  },
  {
   "cell_type": "code",
   "execution_count": 4,
   "metadata": {
    "collapsed": true
   },
   "outputs": [],
   "source": [
    "# tau \n",
    "tau_E = 20.0 # ms, E neuron time constant \n",
    "tau_I = 10.0 # ms, I neuron time constant "
   ]
  },
  {
   "cell_type": "code",
   "execution_count": 5,
   "metadata": {
    "collapsed": true
   },
   "outputs": [],
   "source": [
    "tau_syn = 2.0 # ms, synaptic time constant "
   ]
  },
  {
   "cell_type": "code",
   "execution_count": 7,
   "metadata": {
    "collapsed": true
   },
   "outputs": [],
   "source": [
    "k = 0.3 # mV^-n*s^-1, nonlinearity gain \n",
    "n = 2 # nonlinearity exponent"
   ]
  },
  {
   "cell_type": "code",
   "execution_count": 418,
   "metadata": {
    "collapsed": false
   },
   "outputs": [],
   "source": [
    "def get_noise(N_E,\n",
    "              N_I,\n",
    "             n_steps, \n",
    "             scale = 1,\n",
    "             sigma_0E = 1.0, # mV, noise standard deviation \n",
    "             sigma_0I = 0.5, # mV, noise standard deviation\n",
    "             tau_E = 20.0, # ms, E neuron time constant \n",
    "             tau_I = 10.0, # ms, I neuron time constant \n",
    "             tau_noise = 50.0, # ms, noise correlation time constant \n",
    "             pho = 0.2, # pairwise correlation coefficient\n",
    "             dt = 0.1):\n",
    "    \"\"\"\n",
    "    Generate noise for each unit in the spiking two population model \n",
    "    \"\"\"\n",
    "    # construct sigma_noise\n",
    "    N = N_E + N_I\n",
    "    sigma_noise = np.ones((N, N))\n",
    "    #sigma_E = (np.power(sigma_0E,2))*(1+tau_E/tau_noise)\n",
    "    #sigma_I = (np.power(sigma_0I,2))*(1+tau_I/tau_noise)\n",
    "    sigma_E = 0.1**2\n",
    "    sigma_I = 0.1**2\n",
    "    for i in range(N_E):\n",
    "        sigma_noise[i,:] = sigma_E * pho\n",
    "    for i in range(N_E, N):\n",
    "        sigma_noise[i,:] = sigma_I * pho\n",
    "        \n",
    "    for i in range(N_E):\n",
    "        sigma_noise[i,i] = sigma_E\n",
    "    for i in range(N_E, N):\n",
    "        sigma_noise[i,:] = sigma_I\n",
    "    \n",
    "    noise_list = np.empty((N, n_steps))\n",
    "    \n",
    "    # initialize \n",
    "    noise = np.zeros((N,))\n",
    "    \n",
    "    r = norm.rvs(size=(N, n_steps), scale=scale)\n",
    "    \n",
    "    for i_step in range(n_steps):\n",
    "        \n",
    "        #d_noise = (-noise*dt+(linalg.sqrtm(2*tau_noise*sigma_noise)).dot(r[:,i_step]))/tau_noise\n",
    "        d_noise = (-noise*dt+(np.sqrt(2*tau_noise*sigma_noise)).dot(r[:,i_step]))/tau_noise\n",
    "        noise = noise + d_noise \n",
    "        noise_list[:, i_step] = noise\n",
    "        \n",
    "    return noise_list"
   ]
  },
  {
   "cell_type": "code",
   "execution_count": 382,
   "metadata": {
    "collapsed": false
   },
   "outputs": [],
   "source": [
    "def plot_figure_3_a(R_list, \n",
    "                    V_list,\n",
    "                    spike_time_list, \n",
    "                    N_E = 4000, \n",
    "                    N_I = 1000,\n",
    "                    gaussian_smooth_width = 50):\n",
    "    \n",
    "    f, (ax1, ax2, ax3, ax4) = plt.subplots(4, 1, figsize=(5,8), gridspec_kw = {'height_ratios':[3, 1, 1, 1]})\n",
    "    \n",
    "    # raster plot \n",
    "    exc_colors = ['red' for i in range(40)]\n",
    "    inh_colors = ['blue' for i in range(10)]\n",
    "    colors = np.concatenate((inh_colors, exc_colors))\n",
    "    exc = spike_time_list[:40]\n",
    "    inh = spike_time_list[-10:]\n",
    "    spike_time_plot = np.concatenate((inh, exc))\n",
    "    ax1.spines['right'].set_visible(False)\n",
    "    ax1.spines['left'].set_visible(False)\n",
    "    ax1.spines['top'].set_visible(False)\n",
    "    ax1.spines['bottom'].set_visible(False)\n",
    "    ax1.eventplot(spike_time_plot, colors=colors)\n",
    "    \n",
    "    # population firing rate \n",
    "    exc_R_list = R_list[:N_E,:]\n",
    "    exc_R_mean = np.mean(exc_R_list, axis=0)\n",
    "    exc_R_smoothed = gaussian_filter1d(exc_R_mean, gaussian_smooth_width/dt)\n",
    "    \n",
    "    inh_R_list = R_list[N_E:, :]\n",
    "    inh_R_mean = np.mean(inh_R_list, axis=0)\n",
    "    inh_R_smoothed = gaussian_filter1d(inh_R_mean, gaussian_smooth_width/dt)\n",
    "\n",
    "    ax2.spines['right'].set_visible(False)\n",
    "    ax2.spines['top'].set_visible(False)\n",
    "    ax2.spines['bottom'].set_visible(False)\n",
    "    ax2.set_ylabel('population rate [Hz]', fontsize=12)\n",
    "    #ax2.plot(exc_R_smoothed, color='red')\n",
    "    #ax2.plot(inh_R_smoothed, color='blue')\n",
    "    ax2.plot(exc_R_mean, color='red')\n",
    "    ax2.plot(inh_R_mean, color='blue')\n",
    "    \n",
    "    # LFP \n",
    "    LFP_list = np.mean(V_list, axis=0)\n",
    "    LFP_smoothed = gaussian_filter1d(LFP_list, gaussian_smooth_width/dt)\n",
    "    ax3.spines['right'].set_visible(False)\n",
    "    ax3.spines['top'].set_visible(False)\n",
    "    ax3.spines['bottom'].set_visible(False)\n",
    "    ax3.plot(LFP_smoothed)\n",
    "    ax3.set_ylabel('LFP [mV]', fontsize=12)\n",
    "    \n",
    "    # Vm \n",
    "    neuron_1_trace = V_list[0]\n",
    "    neuron_1_trace_smoothed = gaussian_filter1d(neuron_1_trace, gaussian_smooth_width/dt)\n",
    "    neuron_2_trace = V_list[1]\n",
    "    neuron_2_trace_smoothed = gaussian_filter1d(neuron_2_trace, gaussian_smooth_width/dt)\n",
    "    ax4.spines['right'].set_visible(False)\n",
    "    ax4.spines['top'].set_visible(False)\n",
    "    ax4.plot(neuron_1_trace_smoothed, color='blue', label='neuron 1')\n",
    "    ax4.plot(neuron_2_trace_smoothed, color='yellow', label='neuron 2')\n",
    "    ax4.legend()"
   ]
  },
  {
   "cell_type": "code",
   "execution_count": 419,
   "metadata": {
    "collapsed": false
   },
   "outputs": [],
   "source": [
    "def get_connectivity(N_E, \n",
    "                    N_I,\n",
    "                    p_E = 0.1, # connection probability for E presynaptic partners \n",
    "                    p_I = 0.4, # connection probability for I presynaptic partners\n",
    "                    W_EE = 1.25, # mV*s, connection weight\n",
    "                    W_IE = 1.2, # mV*s, connection weight\n",
    "                    W_EI = -0.65, # mV*s, connection weight\n",
    "                    W_II = -0.5, # mV*s, connection weight\n",
    "                    tau_syn = 2.0 # ms, synaptic time constant\n",
    "                    ):\n",
    "    \n",
    "    # checked \n",
    "    \n",
    "    tau_syn = tau_syn/1000 # convert unit \n",
    "    \n",
    "    # get synaptic weight \n",
    "    J_EE = W_EE/(tau_syn*p_E*N_E)\n",
    "    J_IE = W_IE/(tau_syn*p_E*N_E)\n",
    "    J_EI = W_EI/(tau_syn*p_I*N_I)\n",
    "    J_II = W_II/(tau_syn*p_I*N_I)\n",
    "    \n",
    "    # count of E and I presynaptic partners \n",
    "    count_E = int(p_E*N_E)\n",
    "    count_I = int(p_I*N_I)\n",
    "    \n",
    "    W = np.zeros((N_E+N_I, N_E+N_I))\n",
    "    \n",
    "    for i_E in range(N_E):\n",
    "        # E -> E \n",
    "        pre_part_E = np.random.choice(N_E, count_E, replace=False)\n",
    "        W[i_E,pre_part_E] = J_EE\n",
    "        \n",
    "        # I -> E \n",
    "        pre_part_I = N_E + np.random.choice(N_I, count_I, replace=False)\n",
    "        W[i_E, pre_part_I] = J_EI \n",
    "        \n",
    "    for i_I in range(N_I):\n",
    "        # E -> I \n",
    "        pre_part_E = np.random.choice(N_E, count_E, replace=False)\n",
    "        W[i_I+N_E,pre_part_E] = J_IE\n",
    "        \n",
    "        # I -> I \n",
    "        pre_part_I = N_E + np.random.choice(N_I, count_I, replace=False)\n",
    "        W[i_I+N_E, pre_part_I] = J_II \n",
    "        \n",
    "    return W       "
   ]
  },
  {
   "cell_type": "code",
   "execution_count": 414,
   "metadata": {
    "collapsed": true
   },
   "outputs": [],
   "source": [
    "W = get_connectivity(N_E=4000, N_I=1000)\n",
    "# need to stimulate with 4000 and 1000 to get the right W! "
   ]
  },
  {
   "cell_type": "code",
   "execution_count": 415,
   "metadata": {
    "collapsed": false
   },
   "outputs": [
    {
     "data": {
      "text/plain": [
       "array([[ 0.    ,  0.    ,  0.    , ...,  0.    ,  0.    , -0.8125],\n",
       "       [ 1.5625,  0.    ,  0.    , ...,  0.    , -0.8125, -0.8125],\n",
       "       [ 0.    ,  0.    ,  0.    , ...,  0.    , -0.8125,  0.    ],\n",
       "       ...,\n",
       "       [ 1.5   ,  0.    ,  0.    , ...,  0.    ,  0.    ,  0.    ],\n",
       "       [ 0.    ,  0.    ,  1.5   , ...,  0.    , -0.625 ,  0.    ],\n",
       "       [ 0.    ,  0.    ,  0.    , ..., -0.625 , -0.625 , -0.625 ]])"
      ]
     },
     "execution_count": 415,
     "metadata": {},
     "output_type": "execute_result"
    }
   ],
   "source": [
    "W"
   ]
  },
  {
   "cell_type": "code",
   "execution_count": 420,
   "metadata": {
    "collapsed": false
   },
   "outputs": [],
   "source": [
    "def simulate_spiking_model(n_steps,\n",
    "                          N_E = 4000,\n",
    "                          N_I = 1000,\n",
    "                          h = 2.0 # mV,input baseline\n",
    "                          ):\n",
    "\n",
    "    # record \n",
    "    N = N_E+N_I\n",
    "    V_list = np.empty((N, n_steps))\n",
    "    R_list = np.empty((N, n_steps))\n",
    "    spike_time_list = [[] for i in range(N)]\n",
    "    spike_raster = np.zeros((N, n_steps))\n",
    "    A_list = np.empty((N, n_steps))\n",
    "\n",
    "    # Initialize \n",
    "    # Initial potential for all neurons \n",
    "    V = V_rest*np.ones((N,1))\n",
    "    V_rest_vec = V_rest*np.ones((N,1))\n",
    "\n",
    "    # H: input\n",
    "    H = h*np.ones((N,1))\n",
    "\n",
    "    # noise \n",
    "    noise_list = get_noise(N_E=N_E, N_I=N_I, n_steps=n_steps, scale=0.5)\n",
    "    #noise_list = np.zeros((N, n_steps))\n",
    "\n",
    "    # tau \n",
    "    tau = np.concatenate((tau_E*np.ones((N_E,1)), tau_I*np.ones((N_I,1))), axis=0)\n",
    "\n",
    "    # postsynaptic current \n",
    "    A = np.zeros((N,1))\n",
    "\n",
    "    # spike \n",
    "    axon_delay = 0.5/dt # axon delay \n",
    "\n",
    "    # connectivity\n",
    "    W = get_connectivity(N_E=N_E, N_I=N_I)\n",
    "\n",
    "    for i_step in range(n_steps):\n",
    "    \n",
    "        # get noise \n",
    "        noise = noise_list[:, i_step]\n",
    "        noise = np.asarray(noise)\n",
    "        noise = noise.reshape(N_E+N_I,1)\n",
    "    \n",
    "        # update postsynaptic currents \n",
    "        if i_step >= axon_delay:\n",
    "            A_spike = spike_raster[:, i_step-5]\n",
    "            A_spike = A_spike.reshape((N,1))\n",
    "        else:\n",
    "            A_spike = np.zeros((N,1))\n",
    "        dA = dt*(-A/tau_syn + A_spike)\n",
    "        A = A+dA\n",
    "        A_list[:, i_step] = A.reshape(N,)\n",
    "    \n",
    "        # get momentary firing rate \n",
    "        R = k*np.power(np.maximum(0.0, np.floor(V-V_rest_vec)), n)\n",
    "        R_list[:, i_step] = R.reshape(N,)\n",
    "    \n",
    "        # simulate firing \n",
    "        prob_spike = dt*R\n",
    "        spike = np.zeros((N,1))\n",
    "        for ind, i_p in enumerate(prob_spike):\n",
    "            if np.random.random()<i_p: # if spike \n",
    "                spike_time_list[ind].append(i_step)\n",
    "                spike[ind] = 1 \n",
    "        spike_raster[:,i_step] = spike.reshape((N,))\n",
    "        \n",
    "        # update V \n",
    "        V_list[:, i_step]=V.reshape((N,))\n",
    "        dV = np.divide(dt*(-V + V_rest_vec + H + noise + W.dot(A)), tau)\n",
    "        V = V + dV\n",
    "        \n",
    "    return R_list, V_list, spike_time_list, spike_raster"
   ]
  },
  {
   "cell_type": "code",
   "execution_count": 421,
   "metadata": {
    "collapsed": false
   },
   "outputs": [],
   "source": [
    "[R_list, V_list, spike_time_list, A_list] = simulate_spiking_model(n_steps=2000,h = 2.0)"
   ]
  },
  {
   "cell_type": "code",
   "execution_count": 422,
   "metadata": {
    "collapsed": false
   },
   "outputs": [
    {
     "data": {
      "text/plain": [
       "<matplotlib.colorbar.Colorbar at 0x1a38c66790>"
      ]
     },
     "execution_count": 422,
     "metadata": {},
     "output_type": "execute_result"
    },
    {
     "data": {
      "image/png": "[encoded data removed]",
      "text/plain": [
       "<matplotlib.figure.Figure at 0x1a8abb7810>"
      ]
     },
     "metadata": {},
     "output_type": "display_data"
    }
   ],
   "source": [
    "plt.imshow(R_list)\n",
    "plt.colorbar()"
   ]
  },
  {
   "cell_type": "code",
   "execution_count": 423,
   "metadata": {
    "collapsed": false
   },
   "outputs": [
    {
     "data": {
      "text/plain": [
       "<matplotlib.image.AxesImage at 0x1a3c388d50>"
      ]
     },
     "execution_count": 423,
     "metadata": {},
     "output_type": "execute_result"
    },
    {
     "data": {
      "image/png": "[encoded data removed]",
      "text/plain": [
       "<matplotlib.figure.Figure at 0x1a96450c10>"
      ]
     },
     "metadata": {},
     "output_type": "display_data"
    }
   ],
   "source": [
    "plt.imshow(A_list)"
   ]
  },
  {
   "cell_type": "code",
   "execution_count": 424,
   "metadata": {
    "collapsed": false
   },
   "outputs": [
    {
     "ename": "ValueError",
     "evalue": "all the input arrays must have same number of dimensions",
     "output_type": "error",
     "traceback": [
      "\u001b[0;31m---------------------------------------------------------------------------\u001b[0m",
      "\u001b[0;31mValueError\u001b[0m                                Traceback (most recent call last)",
      "\u001b[0;32m<ipython-input-424-dc1b1150ada4>\u001b[0m in \u001b[0;36m<module>\u001b[0;34m()\u001b[0m\n\u001b[0;32m----> 1\u001b[0;31m \u001b[0mplot_figure_3_a\u001b[0m\u001b[0;34m(\u001b[0m\u001b[0mR_list\u001b[0m\u001b[0;34m,\u001b[0m \u001b[0mV_list\u001b[0m\u001b[0;34m,\u001b[0m\u001b[0mspike_time_list\u001b[0m\u001b[0;34m)\u001b[0m\u001b[0;34m\u001b[0m\u001b[0m\n\u001b[0m",
      "\u001b[0;32m<ipython-input-382-7c4120eec501>\u001b[0m in \u001b[0;36mplot_figure_3_a\u001b[0;34m(R_list, V_list, spike_time_list, N_E, N_I, gaussian_smooth_width)\u001b[0m\n\u001b[1;32m     14\u001b[0m     \u001b[0mexc\u001b[0m \u001b[0;34m=\u001b[0m \u001b[0mspike_time_list\u001b[0m\u001b[0;34m[\u001b[0m\u001b[0;34m:\u001b[0m\u001b[0;36m40\u001b[0m\u001b[0;34m]\u001b[0m\u001b[0;34m\u001b[0m\u001b[0m\n\u001b[1;32m     15\u001b[0m     \u001b[0minh\u001b[0m \u001b[0;34m=\u001b[0m \u001b[0mspike_time_list\u001b[0m\u001b[0;34m[\u001b[0m\u001b[0;34m-\u001b[0m\u001b[0;36m10\u001b[0m\u001b[0;34m:\u001b[0m\u001b[0;34m]\u001b[0m\u001b[0;34m\u001b[0m\u001b[0m\n\u001b[0;32m---> 16\u001b[0;31m     \u001b[0mspike_time_plot\u001b[0m \u001b[0;34m=\u001b[0m \u001b[0mnp\u001b[0m\u001b[0;34m.\u001b[0m\u001b[0mconcatenate\u001b[0m\u001b[0;34m(\u001b[0m\u001b[0;34m(\u001b[0m\u001b[0minh\u001b[0m\u001b[0;34m,\u001b[0m \u001b[0mexc\u001b[0m\u001b[0;34m)\u001b[0m\u001b[0;34m)\u001b[0m\u001b[0;34m\u001b[0m\u001b[0m\n\u001b[0m\u001b[1;32m     17\u001b[0m     \u001b[0max1\u001b[0m\u001b[0;34m.\u001b[0m\u001b[0mspines\u001b[0m\u001b[0;34m[\u001b[0m\u001b[0;34m'right'\u001b[0m\u001b[0;34m]\u001b[0m\u001b[0;34m.\u001b[0m\u001b[0mset_visible\u001b[0m\u001b[0;34m(\u001b[0m\u001b[0mFalse\u001b[0m\u001b[0;34m)\u001b[0m\u001b[0;34m\u001b[0m\u001b[0m\n\u001b[1;32m     18\u001b[0m     \u001b[0max1\u001b[0m\u001b[0;34m.\u001b[0m\u001b[0mspines\u001b[0m\u001b[0;34m[\u001b[0m\u001b[0;34m'left'\u001b[0m\u001b[0;34m]\u001b[0m\u001b[0;34m.\u001b[0m\u001b[0mset_visible\u001b[0m\u001b[0;34m(\u001b[0m\u001b[0mFalse\u001b[0m\u001b[0;34m)\u001b[0m\u001b[0;34m\u001b[0m\u001b[0m\n",
      "\u001b[0;31mValueError\u001b[0m: all the input arrays must have same number of dimensions"
     ]
    },
    {
     "data": {
      "image/png": "[encoded data removed]",
      "text/plain": [
       "<matplotlib.figure.Figure at 0x1a3bd667d0>"
      ]
     },
     "metadata": {},
     "output_type": "display_data"
    }
   ],
   "source": [
    "plot_figure_3_a(R_list, V_list,spike_time_list)"
   ]
  },
  {
   "cell_type": "code",
   "execution_count": null,
   "metadata": {
    "collapsed": true
   },
   "outputs": [],
   "source": []
  }
 ],
 "metadata": {
  "anaconda-cloud": {},
  "kernelspec": {
   "display_name": "Python [anaconda]",
   "language": "python",
   "name": "Python [anaconda]"
  },
  "language_info": {
   "codemirror_mode": {
    "name": "ipython",
    "version": 2
   },
   "file_extension": ".py",
   "mimetype": "text/x-python",
   "name": "python",
   "nbconvert_exporter": "python",
   "pygments_lexer": "ipython2",
   "version": "2.7.3"
  }
 },
 "nbformat": 4,
 "nbformat_minor": 0
}
