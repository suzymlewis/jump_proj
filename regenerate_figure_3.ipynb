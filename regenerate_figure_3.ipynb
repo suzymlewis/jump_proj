{
 "cells": [
  {
   "cell_type": "code",
   "execution_count": 1,
   "metadata": {
    "collapsed": true
   },
   "outputs": [],
   "source": [
    "import numpy as np \n",
    "import matplotlib.pyplot as plt \n",
    "%matplotlib inline "
   ]
  },
  {
   "cell_type": "code",
   "execution_count": 259,
   "metadata": {
    "collapsed": true
   },
   "outputs": [],
   "source": [
    "# size of E and I population \n",
    "N_E = 400\n",
    "N_I = 100 "
   ]
  },
  {
   "cell_type": "code",
   "execution_count": 260,
   "metadata": {
    "collapsed": true
   },
   "outputs": [],
   "source": [
    "V_rest = -70.0 # mV, resting membrane potential "
   ]
  },
  {
   "cell_type": "code",
   "execution_count": 261,
   "metadata": {
    "collapsed": true
   },
   "outputs": [],
   "source": [
    "dt = 0.1 "
   ]
  },
  {
   "cell_type": "code",
   "execution_count": 262,
   "metadata": {
    "collapsed": true
   },
   "outputs": [],
   "source": [
    "# tau \n",
    "tau_E = 20.0 # ms, E neuron time constant \n",
    "tau_I = 10.0 # ms, I neuron time constant "
   ]
  },
  {
   "cell_type": "code",
   "execution_count": 263,
   "metadata": {
    "collapsed": true
   },
   "outputs": [],
   "source": [
    "tau_syn = 2.0 # ms, synaptic time constant "
   ]
  },
  {
   "cell_type": "code",
   "execution_count": 268,
   "metadata": {
    "collapsed": false
   },
   "outputs": [],
   "source": [
    "n_steps = 10000\n",
    "\n",
    "# record \n",
    "V_list = np.empty((N_E+N_I, n_steps))\n",
    "spike_time_list = [[] for i in range(N_E+N_I)]\n",
    "Spike_list = np.empty((N_E+N_I, n_steps))\n",
    "\n",
    "# Initialize \n",
    "# Initial potential for all neurons \n",
    "V = V_rest*np.ones((N_E+N_I,1))\n",
    "V_rest_vec = V_rest*np.ones((N_E+N_I,1))\n",
    "\n",
    "# H: input\n",
    "h = 2.0 # mV,input baseline \n",
    "H = h*np.ones((N_E+N_I,1))\n",
    "\n",
    "# noise \n",
    "noise = 0*np.zeros((N_E+N_I,1))\n",
    "\n",
    "# tau \n",
    "tau = np.concatenate((tau_E*np.ones((N_E,1)), tau_I*np.ones((N_I,1))), axis=0)\n",
    "\n",
    "# postsynaptic current \n",
    "A = np.zeros((N_E+N_I,1))\n",
    "\n",
    "# spike \n",
    "axon_delay = 5 # 5*dt, 0.5 ms as axon delay \n",
    "\n",
    "# connectivity\n",
    "W = get_connectivity(N_E=N_E, N_I=N_I)\n",
    "\n",
    "for i_step in range(n_steps):\n",
    "    \n",
    "    # update postsynaptic currents \n",
    "    A_spike = np.zeros((N_E+N_I,1)) \n",
    "    for i_neuron in range(N_E+N_I):\n",
    "        if len(spike_time_list[i_neuron])>0:\n",
    "            if i_step - spike_time_list[i_neuron][-1] == axon_delay: \n",
    "                A_spike[i_neuron]=1\n",
    "    dA = dt*(-A/tau_syn + A_spike)\n",
    "    A = A+dA\n",
    "    \n",
    "    # get momentary firing rate \n",
    "    R = k*np.power(np.maximum(0.0, np.floor(V-V_rest_vec)), n)\n",
    "    \n",
    "    # simulate firing \n",
    "    prob_spike = dt*R\n",
    "    for ind, i_p in enumerate(prob_spike):\n",
    "        if np.random.random()<i_p: # if spike \n",
    "            spike_time_list[ind].append(i_step)\n",
    "            Spike_list[ind,i_step] = 1\n",
    "        \n",
    "    # update V \n",
    "    V_list[:, i_step]=V.reshape(N_E+N_I,)\n",
    "    dV = np.divide(dt*(-V + V_rest_vec + H + noise + W.dot(A)), tau)\n",
    "    V = V + dV"
   ]
  },
  {
   "cell_type": "code",
   "execution_count": 269,
   "metadata": {
    "collapsed": false
   },
   "outputs": [],
   "source": [
    "spike_time_list = np.asarray(spike_time_list)"
   ]
  },
  {
   "cell_type": "code",
   "execution_count": 270,
   "metadata": {
    "collapsed": false
   },
   "outputs": [],
   "source": [
    "test = spike_time_list[:][:100]"
   ]
  },
  {
   "cell_type": "code",
   "execution_count": 272,
   "metadata": {
    "collapsed": false
   },
   "outputs": [
    {
     "data": {
      "text/plain": [
       "<matplotlib.colorbar.Colorbar at 0x119491f50>"
      ]
     },
     "execution_count": 272,
     "metadata": {},
     "output_type": "execute_result"
    },
    {
     "data": {
      "image/png": "[encoded data removed]",
      "text/plain": [
       "<matplotlib.figure.Figure at 0x11689b410>"
      ]
     },
     "metadata": {},
     "output_type": "display_data"
    }
   ],
   "source": [
    "plt.imshow(Spike_list[:,])\n",
    "plt.colorbar()"
   ]
  },
  {
   "cell_type": "code",
   "execution_count": null,
   "metadata": {
    "collapsed": true
   },
   "outputs": [],
   "source": []
  },
  {
   "cell_type": "code",
   "execution_count": 207,
   "metadata": {
    "collapsed": true
   },
   "outputs": [],
   "source": [
    "spike = [1,2]"
   ]
  },
  {
   "cell_type": "code",
   "execution_count": 208,
   "metadata": {
    "collapsed": true
   },
   "outputs": [],
   "source": [
    "i_step = 2"
   ]
  },
  {
   "cell_type": "code",
   "execution_count": 211,
   "metadata": {
    "collapsed": false
   },
   "outputs": [],
   "source": [
    "for ind,i_spike in enumerate(spike):\n",
    "    a[i_spike].append(i_step)"
   ]
  },
  {
   "cell_type": "code",
   "execution_count": 213,
   "metadata": {
    "collapsed": false
   },
   "outputs": [
    {
     "data": {
      "text/plain": [
       "2"
      ]
     },
     "execution_count": 213,
     "metadata": {},
     "output_type": "execute_result"
    }
   ],
   "source": [
    "a[1][-1]"
   ]
  },
  {
   "cell_type": "code",
   "execution_count": 247,
   "metadata": {
    "collapsed": false
   },
   "outputs": [
    {
     "data": {
      "text/plain": [
       "<matplotlib.colorbar.Colorbar at 0x15276d090>"
      ]
     },
     "execution_count": 247,
     "metadata": {},
     "output_type": "execute_result"
    },
    {
     "data": {
      "image/png": "[encoded data removed]",
      "text/plain": [
       "<matplotlib.figure.Figure at 0x15272f710>"
      ]
     },
     "metadata": {},
     "output_type": "display_data"
    }
   ],
   "source": [
    "plt.imshow(Spike_list[:, :200])\n",
    "plt.colorbar()"
   ]
  },
  {
   "cell_type": "code",
   "execution_count": 179,
   "metadata": {
    "collapsed": true
   },
   "outputs": [],
   "source": [
    "plot_spike_list = Spike_list[:, :200]"
   ]
  },
  {
   "cell_type": "code",
   "execution_count": 180,
   "metadata": {
    "collapsed": false
   },
   "outputs": [],
   "source": [
    "spike_plot = np.nonzero(plot_spike_list)"
   ]
  },
  {
   "cell_type": "code",
   "execution_count": 181,
   "metadata": {
    "collapsed": false
   },
   "outputs": [
    {
     "ename": "AttributeError",
     "evalue": "'tuple' object has no attribute 'shape'",
     "output_type": "error",
     "traceback": [
      "\u001b[0;31m---------------------------------------------------------------------------\u001b[0m",
      "\u001b[0;31mAttributeError\u001b[0m                            Traceback (most recent call last)",
      "\u001b[0;32m<ipython-input-181-b3eb07613779>\u001b[0m in \u001b[0;36m<module>\u001b[0;34m()\u001b[0m\n\u001b[0;32m----> 1\u001b[0;31m \u001b[0mspike_plot\u001b[0m\u001b[0;34m.\u001b[0m\u001b[0mshape\u001b[0m\u001b[0;34m\u001b[0m\u001b[0m\n\u001b[0m",
      "\u001b[0;31mAttributeError\u001b[0m: 'tuple' object has no attribute 'shape'"
     ]
    }
   ],
   "source": [
    "spike_plot.shape"
   ]
  },
  {
   "cell_type": "markdown",
   "metadata": {},
   "source": [
    "## Connectivity"
   ]
  },
  {
   "cell_type": "code",
   "execution_count": 45,
   "metadata": {
    "collapsed": false
   },
   "outputs": [],
   "source": [
    "def get_connectivity(N_E=40, \n",
    "                    N_I = 10,\n",
    "                    p_E = 0.1, # connection probability for E presynaptic partners \n",
    "                    p_I = 0.4, # connection probability for I presynaptic partners\n",
    "                    W_EE = 1.25, # mV*s, connection weight\n",
    "                    W_IE = 1.2, # mV*s, connection weight\n",
    "                    W_EI = -0.65, # mV*s, connection weight\n",
    "                    W_II = -0.5, # mV*s, connection weight\n",
    "                    tau_syn = 2.0 # ms, synaptic time constant\n",
    "                    ):\n",
    "    \n",
    "    # get synaptic weight \n",
    "    J_EE = W_EE/(tau_syn*p_E*N_E)\n",
    "    J_IE = W_IE/(tau_syn*p_E*N_E)\n",
    "    J_EI = -W_EI/(tau_syn*p_I*N_I)\n",
    "    J_II = -W_II/(tau_syn*p_I*N_I)\n",
    "    \n",
    "    # count of E and I presynaptic partners \n",
    "    count_E = int(p_E*N_E)\n",
    "    count_I = int(p_I*N_I)\n",
    "    \n",
    "    W = np.zeros((N_E+N_I, N_E+N_I))\n",
    "    \n",
    "    for i_E in range(N_E):\n",
    "        # E -> E \n",
    "        pre_part_E = np.random.choice(N_E, count_E, replace=False)\n",
    "        W[i_E,pre_part_E] = J_EE\n",
    "        \n",
    "        # I -> E \n",
    "        pre_part_I = N_E + np.random.choice(N_I, count_I, replace=False)\n",
    "        W[i_E, pre_part_I] = J_IE \n",
    "        \n",
    "    for i_I in range(N_I):\n",
    "        # E -> I \n",
    "        pre_part_E = np.random.choice(N_E, count_E, replace=False)\n",
    "        W[i_I+N_E,pre_part_E] = J_EI\n",
    "        \n",
    "        # I -> I \n",
    "        pre_part_I = N_E + np.random.choice(N_I, count_I, replace=False)\n",
    "        W[i_I+N_E, pre_part_I] = J_II \n",
    "        \n",
    "    return W       "
   ]
  },
  {
   "cell_type": "markdown",
   "metadata": {},
   "source": [
    "## spike emitting"
   ]
  },
  {
   "cell_type": "code",
   "execution_count": 51,
   "metadata": {
    "collapsed": true
   },
   "outputs": [],
   "source": [
    "k = 0.3 # mV^-n*s^-1, nonlinearity gain \n",
    "n = 2 # nonlinearity exponent"
   ]
  },
  {
   "cell_type": "code",
   "execution_count": 52,
   "metadata": {
    "collapsed": true
   },
   "outputs": [],
   "source": [
    "dt = 0.1 # time step"
   ]
  },
  {
   "cell_type": "code",
   "execution_count": null,
   "metadata": {
    "collapsed": true
   },
   "outputs": [],
   "source": []
  }
 ],
 "metadata": {
  "anaconda-cloud": {},
  "kernelspec": {
   "display_name": "Python [anaconda]",
   "language": "python",
   "name": "Python [anaconda]"
  },
  "language_info": {
   "codemirror_mode": {
    "name": "ipython",
    "version": 2
   },
   "file_extension": ".py",
   "mimetype": "text/x-python",
   "name": "python",
   "nbconvert_exporter": "python",
   "pygments_lexer": "ipython2",
   "version": "2.7.3"
  }
 },
 "nbformat": 4,
 "nbformat_minor": 0
}
